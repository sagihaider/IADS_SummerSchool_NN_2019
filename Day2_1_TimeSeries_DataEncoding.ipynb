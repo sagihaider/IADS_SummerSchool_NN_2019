{
  "nbformat": 4,
  "nbformat_minor": 0,
  "metadata": {
    "anaconda-cloud": {},
    "kernelspec": {
      "display_name": "Python 3.6 (tensorflow-2.0)",
      "language": "python",
      "name": "tensorflow-2.0"
    },
    "language_info": {
      "codemirror_mode": {
        "name": "ipython",
        "version": 3
      },
      "file_extension": ".py",
      "mimetype": "text/x-python",
      "name": "python",
      "nbconvert_exporter": "python",
      "pygments_lexer": "ipython3",
      "version": "3.6.8"
    },
    "colab": {
      "name": "Day2_Part1_TimeSeries_DataEncoding.ipynb",
      "version": "0.3.2",
      "provenance": [],
      "include_colab_link": true
    }
  },
  "cells": [
    {
      "cell_type": "markdown",
      "metadata": {
        "id": "view-in-github",
        "colab_type": "text"
      },
      "source": [
        "<a href=\"https://colab.research.google.com/github/sagihaider/IADS_SummerSchool_NN_2019/blob/master/Day2_Part1_TimeSeries_DataEncoding.ipynb\" target=\"_parent\"><img src=\"https://colab.research.google.com/assets/colab-badge.svg\" alt=\"Open In Colab\"/></a>"
      ]
    },
    {
      "cell_type": "markdown",
      "metadata": {
        "id": "6s9akwLWmC8W",
        "colab_type": "text"
      },
      "source": [
        "# Recuurent Neural Networks"
      ]
    },
    {
      "cell_type": "markdown",
      "metadata": {
        "id": "GGL-f-RcmC8Y",
        "colab_type": "text"
      },
      "source": [
        "## Part 1: Time Series Data Encoding for Deep Learning, TensorFlow and Keras\n",
        "\n",
        "Previously we trained neural networks with input ($x$) and expected output ($y$).  $X$ was a matrix, the rows were training examples and the columns were values to be predicted.  The definition of $x$ will be expanded and y will stay the same.\n",
        "\n",
        "Dimensions of training set ($x$):\n",
        "* Axis 1: Training set elements (sequences) (must be of the same size as $y$ size)\n",
        "* Axis 2: Members of sequence\n",
        "* Axis 3: Features in data (like input neurons)\n",
        "\n",
        "Previously, we might take as input a single stock price, to predict if we should buy (1), sell (-1), or hold (0)."
      ]
    },
    {
      "cell_type": "code",
      "metadata": {
        "id": "1pUpmUgtmC8Z",
        "colab_type": "code",
        "colab": {},
        "outputId": "d9487aee-5895-4431-b1e2-f0f964e560aa"
      },
      "source": [
        "# \n",
        "\n",
        "x = [\n",
        "    [32],\n",
        "    [41],\n",
        "    [39],\n",
        "    [20],\n",
        "    [15]\n",
        "]\n",
        "\n",
        "y = [\n",
        "    1,\n",
        "    -1,\n",
        "    0,\n",
        "    -1,\n",
        "    1\n",
        "]\n",
        "\n",
        "print(x)\n",
        "print(y)"
      ],
      "execution_count": 0,
      "outputs": [
        {
          "output_type": "stream",
          "text": [
            "[[32], [41], [39], [20], [15]]\n",
            "[1, -1, 0, -1, 1]\n"
          ],
          "name": "stdout"
        }
      ]
    },
    {
      "cell_type": "markdown",
      "metadata": {
        "id": "2eqEt_DemC8c",
        "colab_type": "text"
      },
      "source": [
        "This is essentially building a CSV file from scratch, to see it as a data frame, use the following:"
      ]
    },
    {
      "cell_type": "code",
      "metadata": {
        "scrolled": true,
        "id": "AMvr90P-mC8d",
        "colab_type": "code",
        "colab": {},
        "outputId": "ba81225b-3c6b-40d9-beee-48b46b082abb"
      },
      "source": [
        "from IPython.display import display, HTML\n",
        "import pandas as pd\n",
        "import numpy as np\n",
        "\n",
        "x = np.array(x)\n",
        "print(x[:,0])\n",
        "\n",
        "\n",
        "df = pd.DataFrame({'x':x[:,0], 'y':y})\n",
        "display(df)"
      ],
      "execution_count": 0,
      "outputs": [
        {
          "output_type": "stream",
          "text": [
            "[32 41 39 20 15]\n"
          ],
          "name": "stdout"
        },
        {
          "output_type": "display_data",
          "data": {
            "text/html": [
              "<div>\n",
              "<style scoped>\n",
              "    .dataframe tbody tr th:only-of-type {\n",
              "        vertical-align: middle;\n",
              "    }\n",
              "\n",
              "    .dataframe tbody tr th {\n",
              "        vertical-align: top;\n",
              "    }\n",
              "\n",
              "    .dataframe thead th {\n",
              "        text-align: right;\n",
              "    }\n",
              "</style>\n",
              "<table border=\"1\" class=\"dataframe\">\n",
              "  <thead>\n",
              "    <tr style=\"text-align: right;\">\n",
              "      <th></th>\n",
              "      <th>x</th>\n",
              "      <th>y</th>\n",
              "    </tr>\n",
              "  </thead>\n",
              "  <tbody>\n",
              "    <tr>\n",
              "      <th>0</th>\n",
              "      <td>32</td>\n",
              "      <td>1</td>\n",
              "    </tr>\n",
              "    <tr>\n",
              "      <th>1</th>\n",
              "      <td>41</td>\n",
              "      <td>-1</td>\n",
              "    </tr>\n",
              "    <tr>\n",
              "      <th>2</th>\n",
              "      <td>39</td>\n",
              "      <td>0</td>\n",
              "    </tr>\n",
              "    <tr>\n",
              "      <th>3</th>\n",
              "      <td>20</td>\n",
              "      <td>-1</td>\n",
              "    </tr>\n",
              "    <tr>\n",
              "      <th>4</th>\n",
              "      <td>15</td>\n",
              "      <td>1</td>\n",
              "    </tr>\n",
              "  </tbody>\n",
              "</table>\n",
              "</div>"
            ],
            "text/plain": [
              "    x  y\n",
              "0  32  1\n",
              "1  41 -1\n",
              "2  39  0\n",
              "3  20 -1\n",
              "4  15  1"
            ]
          },
          "metadata": {
            "tags": []
          }
        }
      ]
    },
    {
      "cell_type": "markdown",
      "metadata": {
        "id": "FbjEnJNNmC8g",
        "colab_type": "text"
      },
      "source": [
        "You might want to put volume in with the stock price.  "
      ]
    },
    {
      "cell_type": "code",
      "metadata": {
        "id": "usBaz2GomC8g",
        "colab_type": "code",
        "colab": {},
        "outputId": "380ab319-7f1c-4054-cf16-c1750b98bbe7"
      },
      "source": [
        "x = [\n",
        "    [32,1383],\n",
        "    [41,2928],\n",
        "    [39,8823],\n",
        "    [20,1252],\n",
        "    [15,1532]\n",
        "]\n",
        "\n",
        "y = [\n",
        "    1,\n",
        "    -1,\n",
        "    0,\n",
        "    -1,\n",
        "    1\n",
        "]\n",
        "\n",
        "print(x)\n",
        "print(y)"
      ],
      "execution_count": 0,
      "outputs": [
        {
          "output_type": "stream",
          "text": [
            "[[32, 1383], [41, 2928], [39, 8823], [20, 1252], [15, 1532]]\n",
            "[1, -1, 0, -1, 1]\n"
          ],
          "name": "stdout"
        }
      ]
    },
    {
      "cell_type": "markdown",
      "metadata": {
        "id": "bJWC5abLmC8j",
        "colab_type": "text"
      },
      "source": [
        "Again, very similar to what we did before.  The following shows this as a data frame."
      ]
    },
    {
      "cell_type": "code",
      "metadata": {
        "id": "qkUJMQX4mC8j",
        "colab_type": "code",
        "colab": {},
        "outputId": "e3a61431-e3c6-4769-dbeb-79038a3d8877"
      },
      "source": [
        "from IPython.display import display, HTML\n",
        "import pandas as pd\n",
        "import numpy as np\n",
        "\n",
        "x = np.array(x)\n",
        "print(x[:,0])\n",
        "\n",
        "\n",
        "df = pd.DataFrame({'price':x[:,0], 'volume':x[:,1], 'y':y})\n",
        "display(df)"
      ],
      "execution_count": 0,
      "outputs": [
        {
          "output_type": "stream",
          "text": [
            "[32 41 39 20 15]\n"
          ],
          "name": "stdout"
        },
        {
          "output_type": "display_data",
          "data": {
            "text/html": [
              "<div>\n",
              "<style scoped>\n",
              "    .dataframe tbody tr th:only-of-type {\n",
              "        vertical-align: middle;\n",
              "    }\n",
              "\n",
              "    .dataframe tbody tr th {\n",
              "        vertical-align: top;\n",
              "    }\n",
              "\n",
              "    .dataframe thead th {\n",
              "        text-align: right;\n",
              "    }\n",
              "</style>\n",
              "<table border=\"1\" class=\"dataframe\">\n",
              "  <thead>\n",
              "    <tr style=\"text-align: right;\">\n",
              "      <th></th>\n",
              "      <th>price</th>\n",
              "      <th>volume</th>\n",
              "      <th>y</th>\n",
              "    </tr>\n",
              "  </thead>\n",
              "  <tbody>\n",
              "    <tr>\n",
              "      <th>0</th>\n",
              "      <td>32</td>\n",
              "      <td>1383</td>\n",
              "      <td>1</td>\n",
              "    </tr>\n",
              "    <tr>\n",
              "      <th>1</th>\n",
              "      <td>41</td>\n",
              "      <td>2928</td>\n",
              "      <td>-1</td>\n",
              "    </tr>\n",
              "    <tr>\n",
              "      <th>2</th>\n",
              "      <td>39</td>\n",
              "      <td>8823</td>\n",
              "      <td>0</td>\n",
              "    </tr>\n",
              "    <tr>\n",
              "      <th>3</th>\n",
              "      <td>20</td>\n",
              "      <td>1252</td>\n",
              "      <td>-1</td>\n",
              "    </tr>\n",
              "    <tr>\n",
              "      <th>4</th>\n",
              "      <td>15</td>\n",
              "      <td>1532</td>\n",
              "      <td>1</td>\n",
              "    </tr>\n",
              "  </tbody>\n",
              "</table>\n",
              "</div>"
            ],
            "text/plain": [
              "   price  volume  y\n",
              "0     32    1383  1\n",
              "1     41    2928 -1\n",
              "2     39    8823  0\n",
              "3     20    1252 -1\n",
              "4     15    1532  1"
            ]
          },
          "metadata": {
            "tags": []
          }
        }
      ]
    },
    {
      "cell_type": "markdown",
      "metadata": {
        "id": "bJD-YwxlmC8m",
        "colab_type": "text"
      },
      "source": [
        "Now we get to sequence format.  We want to predict something over a sequence, so the data format needs to add a dimension.  A maximum sequence length must be specified, but the individual sequences can be of any length."
      ]
    },
    {
      "cell_type": "code",
      "metadata": {
        "id": "QdkuDwdAmC8m",
        "colab_type": "code",
        "colab": {},
        "outputId": "d647fa0a-bb3f-4a86-c80c-de7f44ea9f52"
      },
      "source": [
        "x = [\n",
        "    [[32,1383],[41,2928],[39,8823],[20,1252],[15,1532]],\n",
        "    [[35,8272],[32,1383],[41,2928],[39,8823],[20,1252]],\n",
        "    [[37,2738],[35,8272],[32,1383],[41,2928],[39,8823]],\n",
        "    [[34,2845],[37,2738],[35,8272],[32,1383],[41,2928]],\n",
        "    [[32,2345],[34,2845],[37,2738],[35,8272],[32,1383]],\n",
        "]\n",
        "\n",
        "y = [\n",
        "    1,\n",
        "    -1,\n",
        "    0,\n",
        "    -1,\n",
        "    1\n",
        "]\n",
        "\n",
        "print(x)\n",
        "print(y)"
      ],
      "execution_count": 0,
      "outputs": [
        {
          "output_type": "stream",
          "text": [
            "[[[32, 1383], [41, 2928], [39, 8823], [20, 1252], [15, 1532]], [[35, 8272], [32, 1383], [41, 2928], [39, 8823], [20, 1252]], [[37, 2738], [35, 8272], [32, 1383], [41, 2928], [39, 8823]], [[34, 2845], [37, 2738], [35, 8272], [32, 1383], [41, 2928]], [[32, 2345], [34, 2845], [37, 2738], [35, 8272], [32, 1383]]]\n",
            "[1, -1, 0, -1, 1]\n"
          ],
          "name": "stdout"
        }
      ]
    },
    {
      "cell_type": "markdown",
      "metadata": {
        "id": "33J6UVwsmC8p",
        "colab_type": "text"
      },
      "source": [
        "Even if there is only one feature (price), the 3rd dimension must be used:"
      ]
    },
    {
      "cell_type": "code",
      "metadata": {
        "id": "iRAEwzaWmC8p",
        "colab_type": "code",
        "colab": {},
        "outputId": "261df604-d70c-47de-dcef-5ca153eac00b"
      },
      "source": [
        "x = [\n",
        "    [[32],[41],[39],[20],[15]],\n",
        "    [[35],[32],[41],[39],[20]],\n",
        "    [[37],[35],[32],[41],[39]],\n",
        "    [[34],[37],[35],[32],[41]],\n",
        "    [[32],[34],[37],[35],[32]],\n",
        "]\n",
        "\n",
        "y = [\n",
        "    1,\n",
        "    -1,\n",
        "    0,\n",
        "    -1,\n",
        "    1\n",
        "]\n",
        "\n",
        "print(x)\n",
        "print(y)"
      ],
      "execution_count": 0,
      "outputs": [
        {
          "output_type": "stream",
          "text": [
            "[[[32], [41], [39], [20], [15]], [[35], [32], [41], [39], [20]], [[37], [35], [32], [41], [39]], [[34], [37], [35], [32], [41]], [[32], [34], [37], [35], [32]]]\n",
            "[1, -1, 0, -1, 1]\n"
          ],
          "name": "stdout"
        }
      ]
    },
    {
      "cell_type": "code",
      "metadata": {
        "id": "c40Mr7gemC8t",
        "colab_type": "code",
        "colab": {}
      },
      "source": [
        ""
      ],
      "execution_count": 0,
      "outputs": []
    }
  ]
}

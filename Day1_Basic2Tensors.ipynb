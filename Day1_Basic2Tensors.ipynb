{
  "nbformat": 4,
  "nbformat_minor": 0,
  "metadata": {
    "colab": {
      "name": "Day1_Basic2Tensors.ipynb",
      "version": "0.3.2",
      "provenance": [],
      "collapsed_sections": [],
      "include_colab_link": true
    },
    "kernelspec": {
      "name": "python3",
      "display_name": "Python 3"
    }
  },
  "cells": [
    {
      "cell_type": "markdown",
      "metadata": {
        "id": "view-in-github",
        "colab_type": "text"
      },
      "source": [
        "<a href=\"https://colab.research.google.com/github/sagihaider/IADS_SummerSchool_NN_2019/blob/master/Day1_Basic2Tensors.ipynb\" target=\"_parent\"><img src=\"https://colab.research.google.com/assets/colab-badge.svg\" alt=\"Open In Colab\"/></a>"
      ]
    },
    {
      "cell_type": "markdown",
      "metadata": {
        "id": "xe48_GXQdGRT",
        "colab_type": "text"
      },
      "source": [
        "Data representations for neural networks"
      ]
    },
    {
      "cell_type": "markdown",
      "metadata": {
        "id": "I2QB_eEvdP3y",
        "colab_type": "text"
      },
      "source": [
        "**Scalars (0D tensors): **\n",
        "\n",
        "A tensor that contains only one number is called a scalar (or scalar tensor, or 0-dimensional\n",
        "tensor, or 0D tensor)."
      ]
    },
    {
      "cell_type": "code",
      "metadata": {
        "id": "YjmTgzY5dLNo",
        "colab_type": "code",
        "outputId": "ab845b5d-6a3f-4a66-edcc-3ecab56f53fb",
        "colab": {
          "base_uri": "https://localhost:8080/",
          "height": 51
        }
      },
      "source": [
        "import numpy as np\n",
        "x = np.array(12)\n",
        "print(x)\n",
        "x.ndim"
      ],
      "execution_count": 0,
      "outputs": [
        {
          "output_type": "stream",
          "text": [
            "12\n"
          ],
          "name": "stdout"
        },
        {
          "output_type": "execute_result",
          "data": {
            "text/plain": [
              "0"
            ]
          },
          "metadata": {
            "tags": []
          },
          "execution_count": 3
        }
      ]
    },
    {
      "cell_type": "markdown",
      "metadata": {
        "id": "1T2YpDA9d9Zi",
        "colab_type": "text"
      },
      "source": [
        "**Vectors (1D tensors):**\n",
        "\n",
        "An array of numbers is called a vector, or 1D tensor. A 1D tensor is said to have exactly\n",
        "one axis. Following is a Numpy vector:"
      ]
    },
    {
      "cell_type": "code",
      "metadata": {
        "id": "NBRj0hQveJ-7",
        "colab_type": "code",
        "outputId": "267b7534-5292-4297-f632-d998b635278c",
        "colab": {
          "base_uri": "https://localhost:8080/",
          "height": 51
        }
      },
      "source": [
        "x = np.array([12, 3, 6, 14])\n",
        "print(x)\n",
        "x.ndim"
      ],
      "execution_count": 0,
      "outputs": [
        {
          "output_type": "stream",
          "text": [
            "[12  3  6 14]\n"
          ],
          "name": "stdout"
        },
        {
          "output_type": "execute_result",
          "data": {
            "text/plain": [
              "1"
            ]
          },
          "metadata": {
            "tags": []
          },
          "execution_count": 4
        }
      ]
    },
    {
      "cell_type": "markdown",
      "metadata": {
        "id": "OlnAYHuuemxC",
        "colab_type": "text"
      },
      "source": [
        "**Matrices (2D tensors)**\n",
        "\n",
        "An array of vectors is a matrix, or 2D tensor. A matrix has two axes (often referred to\n",
        "rows and columns). You can visually interpret a matrix as a rectangular grid of numbers.\n",
        "This is a Numpy matrix:"
      ]
    },
    {
      "cell_type": "code",
      "metadata": {
        "id": "v3BW9-9_eo79",
        "colab_type": "code",
        "outputId": "0d9fb556-9164-4d83-a9c6-cf4657f8b00e",
        "colab": {
          "base_uri": "https://localhost:8080/",
          "height": 85
        }
      },
      "source": [
        "x = np.array([[5, 78, 2, 34, 0],\n",
        "              [6, 79, 3, 35, 1],\n",
        "              [7, 80, 4, 36, 2]])\n",
        "\n",
        "print(x)\n",
        "x.ndim"
      ],
      "execution_count": 0,
      "outputs": [
        {
          "output_type": "stream",
          "text": [
            "[[ 5 78  2 34  0]\n",
            " [ 6 79  3 35  1]\n",
            " [ 7 80  4 36  2]]\n"
          ],
          "name": "stdout"
        },
        {
          "output_type": "execute_result",
          "data": {
            "text/plain": [
              "2"
            ]
          },
          "metadata": {
            "tags": []
          },
          "execution_count": 5
        }
      ]
    },
    {
      "cell_type": "markdown",
      "metadata": {
        "id": "Ci-GwqfQfAhu",
        "colab_type": "text"
      },
      "source": [
        "**3D tensors and higher-dimensional tensors**:\n",
        "\n",
        "If you pack such matrices in a new array, you obtain a 3D tensor, which you can visually\n",
        "interpret as a cube of numbers. Following is a Numpy 3D tensor:"
      ]
    },
    {
      "cell_type": "code",
      "metadata": {
        "id": "PNUEuX2ufDXe",
        "colab_type": "code",
        "outputId": "42b4ad49-275a-4c36-9c9d-57f7604bc333",
        "colab": {
          "base_uri": "https://localhost:8080/",
          "height": 221
        }
      },
      "source": [
        "x = np.array([[[5, 78, 2, 34, 0],\n",
        "               [6, 79, 3, 35, 1],\n",
        "               [7, 80, 4, 36, 2]],\n",
        "              [[5, 78, 2, 34, 0],\n",
        "               [6, 79, 3, 35, 1],\n",
        "               [7, 80, 4, 36, 2]],\n",
        "              [[5, 78, 2, 34, 0],\n",
        "               [6, 79, 3, 35, 1],\n",
        "               [7, 80, 4, 36, 2]]])\n",
        "\n",
        "print(x)\n",
        "x.ndim"
      ],
      "execution_count": 0,
      "outputs": [
        {
          "output_type": "stream",
          "text": [
            "[[[ 5 78  2 34  0]\n",
            "  [ 6 79  3 35  1]\n",
            "  [ 7 80  4 36  2]]\n",
            "\n",
            " [[ 5 78  2 34  0]\n",
            "  [ 6 79  3 35  1]\n",
            "  [ 7 80  4 36  2]]\n",
            "\n",
            " [[ 5 78  2 34  0]\n",
            "  [ 6 79  3 35  1]\n",
            "  [ 7 80  4 36  2]]]\n"
          ],
          "name": "stdout"
        },
        {
          "output_type": "execute_result",
          "data": {
            "text/plain": [
              "3"
            ]
          },
          "metadata": {
            "tags": []
          },
          "execution_count": 6
        }
      ]
    },
    {
      "cell_type": "markdown",
      "metadata": {
        "id": "wv9M2itEfaE8",
        "colab_type": "text"
      },
      "source": [
        "**A tensor is defined by three key attributes:**\n",
        "\n",
        "* **Number of axes (rank)** :  For instance, a 3D tensor has three axes, and a matrix has\n",
        "two axes. This is also called the tensor’s ndim in Python libraries such as Numpy.\n",
        "\n",
        "* **Shape** : This is a tuple of integers that describes how many dimensions the tensor\n",
        "has along each axis. For instance, the previous matrix example has shape\n",
        "(3, 5), and the 3D tensor example has shape (3, 3, 5). A vector has a shape\n",
        "with a single element, such as (5,), whereas a scalar has an empty shape, ().\n",
        "\n",
        "* **Data type** : (usually called dtype in Python libraries)—This is the type of the data\n",
        "contained in the tensor; for instance, a tensor’s type could be float32, uint8,\n",
        "float64, and so on. On rare occasions, you may see a char tensor. Note that\n",
        "string tensors don’t exist in Numpy (or in most other libraries), because tensors\n",
        "live in preallocated, contiguous memory segments: and strings, being variable\n",
        "length, would preclude the use of this implementation."
      ]
    },
    {
      "cell_type": "markdown",
      "metadata": {
        "id": "lcUCmhj1lF0H",
        "colab_type": "text"
      },
      "source": [
        "Let's look at example from MNIST data"
      ]
    },
    {
      "cell_type": "code",
      "metadata": {
        "id": "XpwIg8jdfqku",
        "colab_type": "code",
        "outputId": "cd1e9dc4-b222-4734-d4c7-cc1e6102012c",
        "colab": {
          "base_uri": "https://localhost:8080/",
          "height": 119
        }
      },
      "source": [
        "from keras.datasets import mnist\n",
        "(train_images, train_labels), (test_images, test_labels) = mnist.load_data()\n",
        "\n",
        "print(train_images.ndim)\n",
        "\n",
        "print(train_images.shape)\n",
        "\n",
        "print(train_images.dtype)\n"
      ],
      "execution_count": 0,
      "outputs": [
        {
          "output_type": "stream",
          "text": [
            "Using TensorFlow backend.\n"
          ],
          "name": "stderr"
        },
        {
          "output_type": "stream",
          "text": [
            "Downloading data from https://s3.amazonaws.com/img-datasets/mnist.npz\n",
            "11493376/11490434 [==============================] - 1s 0us/step\n",
            "3\n",
            "(60000, 28, 28)\n",
            "uint8\n"
          ],
          "name": "stdout"
        }
      ]
    },
    {
      "cell_type": "markdown",
      "metadata": {
        "id": "xw4zNm2tlkb4",
        "colab_type": "text"
      },
      "source": [
        "Let's display the 5th digit of the train data"
      ]
    },
    {
      "cell_type": "code",
      "metadata": {
        "id": "P1ryHMMSlqM0",
        "colab_type": "code",
        "outputId": "9529f50f-c9c4-43e8-9917-fc0f6b209165",
        "colab": {
          "base_uri": "https://localhost:8080/",
          "height": 269
        }
      },
      "source": [
        "digit = train_images[4]\n",
        "\n",
        "import matplotlib.pyplot as plt\n",
        "plt.imshow(digit, cmap=plt.cm.binary)\n",
        "plt.show()"
      ],
      "execution_count": 0,
      "outputs": [
        {
          "output_type": "display_data",
          "data": {
            "image/png": "[encoded data removed]",
            "text/plain": [
              "<Figure size 432x288 with 1 Axes>"
            ]
          },
          "metadata": {
            "tags": []
          }
        }
      ]
    },
    {
      "cell_type": "markdown",
      "metadata": {
        "id": "e1rzALMzmKRZ",
        "colab_type": "text"
      },
      "source": [
        "Manipulating tensors in Numpy: Slicing"
      ]
    },
    {
      "cell_type": "code",
      "metadata": {
        "id": "PJZOvrjqmMzG",
        "colab_type": "code",
        "outputId": "fd6e915a-186e-402d-b580-2a24bead81cb",
        "colab": {
          "base_uri": "https://localhost:8080/",
          "height": 68
        }
      },
      "source": [
        "my_slice = train_images[10:100]\n",
        "print(my_slice.shape)\n",
        "\n",
        "my_slice = train_images[10:100, :, :]\n",
        "print(my_slice.shape)\n",
        "\n",
        "my_slice = train_images[10:100, 0:28, 0:28]\n",
        "print(my_slice.shape)"
      ],
      "execution_count": 0,
      "outputs": [
        {
          "output_type": "stream",
          "text": [
            "(90, 28, 28)\n",
            "(90, 28, 28)\n",
            "(90, 28, 28)\n"
          ],
          "name": "stdout"
        }
      ]
    },
    {
      "cell_type": "markdown",
      "metadata": {
        "id": "C5KEO-xm0T53",
        "colab_type": "text"
      },
      "source": [
        "The notion of data batches\n",
        "\n",
        "Deep-learning models don’t process an entire dataset at once; rather,\n",
        "they break the data into small batches. Concretely, here’s one batch of our MNIST digits,\n",
        "with batch size of 128:\n",
        "\n"
      ]
    },
    {
      "cell_type": "code",
      "metadata": {
        "id": "iTJv3iE90YYT",
        "colab_type": "code",
        "outputId": "7dac7051-56e4-48a9-8144-d9551b0db757",
        "colab": {
          "base_uri": "https://localhost:8080/",
          "height": 34
        }
      },
      "source": [
        "batch = train_images[:128]\n",
        "batch.shape"
      ],
      "execution_count": 0,
      "outputs": [
        {
          "output_type": "execute_result",
          "data": {
            "text/plain": [
              "(128, 28, 28)"
            ]
          },
          "metadata": {
            "tags": []
          },
          "execution_count": 3
        }
      ]
    },
    {
      "cell_type": "markdown",
      "metadata": {
        "id": "hgaIj--40_F6",
        "colab_type": "text"
      },
      "source": [
        "And here’s the next batch:\n"
      ]
    },
    {
      "cell_type": "code",
      "metadata": {
        "id": "USKWVomG1Ap0",
        "colab_type": "code",
        "outputId": "6dd34f52-183a-4dd5-c142-7b8e0bca826b",
        "colab": {
          "base_uri": "https://localhost:8080/",
          "height": 34
        }
      },
      "source": [
        "batch = train_images[128:256]\n",
        "batch.shape"
      ],
      "execution_count": 0,
      "outputs": [
        {
          "output_type": "execute_result",
          "data": {
            "text/plain": [
              "(128, 28, 28)"
            ]
          },
          "metadata": {
            "tags": []
          },
          "execution_count": 5
        }
      ]
    },
    {
      "cell_type": "markdown",
      "metadata": {
        "id": "3q9ES2F31H22",
        "colab_type": "text"
      },
      "source": [
        "And the nth batch:"
      ]
    },
    {
      "cell_type": "code",
      "metadata": {
        "id": "5VOJ81lG1Iy9",
        "colab_type": "code",
        "colab": {}
      },
      "source": [
        "n=5\n",
        "batch = train_images[128 * n:128 * (n + 1)]"
      ],
      "execution_count": 0,
      "outputs": []
    },
    {
      "cell_type": "markdown",
      "metadata": {
        "id": "DZWwspse1UFH",
        "colab_type": "text"
      },
      "source": [
        "When considering such a batch tensor, the first axis (axis 0) is called the batch axis or\n",
        "batch dimension. This is a term you’ll frequently encounter when using Keras and other\n",
        "deep-learning libraries."
      ]
    },
    {
      "cell_type": "markdown",
      "metadata": {
        "id": "_tXAsnVa1ZfE",
        "colab_type": "text"
      },
      "source": [
        "**Real-world examples of data tensors**\n",
        "\n",
        "Let’s make data tensors more concrete with a few examples similar to what you’ll\n",
        "encounter later. The data you’ll manipulate will almost always fall into one of the following\n",
        "categories:\n",
        "\n",
        "1. Vector data—2D tensors of shape *(samples, features)*\n",
        "\n",
        "2. Timeseries data or sequence data—3D tensors of shape *(samples, timesteps, features)*\n",
        "\n",
        "3. Images—4D tensors of shape *(samples, height, width, channels)* or *(samples, channels, height, width)* \n",
        "\n",
        "4. Video—5D tensors of shape *(samples, frames, height, width, channels)* or *(samples, frames, channels, height, width)*"
      ]
    },
    {
      "cell_type": "code",
      "metadata": {
        "id": "WxrqObOF1jq5",
        "colab_type": "code",
        "colab": {}
      },
      "source": [
        ""
      ],
      "execution_count": 0,
      "outputs": []
    }
  ]
}
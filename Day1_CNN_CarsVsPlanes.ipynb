{
  "nbformat": 4,
  "nbformat_minor": 0,
  "metadata": {
    "colab": {
      "name": "Day1_CNN_CarsVsPlanes.ipynb",
      "version": "0.3.2",
      "provenance": [],
      "include_colab_link": true
    },
    "kernelspec": {
      "name": "python3",
      "display_name": "Python 3"
    },
    "accelerator": "GPU"
  },
  "cells": [
    {
      "cell_type": "markdown",
      "metadata": {
        "id": "view-in-github",
        "colab_type": "text"
      },
      "source": [
        "<a href=\"https://colab.research.google.com/github/sagihaider/IADS_SummerSchool_NN_2019/blob/master/Day1_CNN_CarsVsPlanes.ipynb\" target=\"_parent\"><img src=\"https://colab.research.google.com/assets/colab-badge.svg\" alt=\"Open In Colab\"/></a>"
      ]
    },
    {
      "cell_type": "code",
      "metadata": {
        "id": "R-yUe5cjBRC4",
        "colab_type": "code",
        "colab": {
          "base_uri": "https://localhost:8080/",
          "height": 34
        },
        "outputId": "6ea2e77b-6d04-42ec-cca3-e39b658e4d93"
      },
      "source": [
        "from google.colab import drive\n",
        "drive.mount('/content/drive')"
      ],
      "execution_count": 1,
      "outputs": [
        {
          "output_type": "stream",
          "text": [
            "Drive already mounted at /content/drive; to attempt to forcibly remount, call drive.mount(\"/content/drive\", force_remount=True).\n"
          ],
          "name": "stdout"
        }
      ]
    },
    {
      "cell_type": "code",
      "metadata": {
        "id": "X3RMNGmHBc96",
        "colab_type": "code",
        "colab": {
          "base_uri": "https://localhost:8080/",
          "height": 34
        },
        "outputId": "9ae45d2f-88b5-4c60-be29-7432f098b886"
      },
      "source": [
        "from zipfile import ZipFile\n",
        "file_name = \"/content/drive/My Drive/CarsVsPlanes.zip\"\n",
        "\n",
        "with ZipFile(file_name, 'r') as zip:\n",
        "  zip.extractall()\n",
        "  print('done')"
      ],
      "execution_count": 2,
      "outputs": [
        {
          "output_type": "stream",
          "text": [
            "done\n"
          ],
          "name": "stdout"
        }
      ]
    },
    {
      "cell_type": "code",
      "metadata": {
        "id": "BG3dnTMABnTn",
        "colab_type": "code",
        "colab": {}
      },
      "source": [
        "import os\n",
        "import numpy as np\n",
        "import cv2\n",
        "import matplotlib.pyplot as plt\n",
        "import skimage.io\n",
        "import skimage.transform\n",
        "from sklearn.preprocessing import label_binarize\n",
        "from keras import layers\n",
        "from keras import models\n",
        "from keras import optimizers\n",
        "import warnings\n",
        "warnings.filterwarnings('ignore')"
      ],
      "execution_count": 0,
      "outputs": []
    },
    {
      "cell_type": "code",
      "metadata": {
        "id": "bBS36NcdBq8G",
        "colab_type": "code",
        "colab": {}
      },
      "source": [
        "#Directory names of the folders that contain the images that need to be trained and tested for.\n",
        "\n",
        "trainDir = 'CarsVsPlanes/train'\n",
        "testDir = 'CarsVsPlanes/test'\n"
      ],
      "execution_count": 0,
      "outputs": []
    },
    {
      "cell_type": "code",
      "metadata": {
        "id": "51clT8wwB1NG",
        "colab_type": "code",
        "colab": {}
      },
      "source": [
        "#The list of class names for which label binarizer is run\n",
        "class_names = ['cars', 'planes']\n",
        "\n",
        "#channels = 3 ==> RGB or HSV images, channels = 1 ==> Greyscale images\n",
        "channels = 3\n",
        "\n",
        "#Normalization value should be 255 for RGB or Greyscale images. It should be 1 for HSV images.\n",
        "normalizationVal = 255.0\n",
        "\n",
        "#Other parameters\n",
        "epochs = 100\n",
        "batchsize = 32\n",
        "learningRate = 0.001\n"
      ],
      "execution_count": 0,
      "outputs": []
    },
    {
      "cell_type": "code",
      "metadata": {
        "id": "kAtdPTwQB6Ze",
        "colab_type": "code",
        "colab": {
          "base_uri": "https://localhost:8080/",
          "height": 51
        },
        "outputId": "e8a7a946-2689-4d88-f5ab-e325f79d1eea"
      },
      "source": [
        "#Converting the images to numpy arrays\n",
        "X_train = []\n",
        "y_train = []\n",
        "\n",
        "X_test = []\n",
        "y_test = []\n",
        "\n",
        "#For the train images\n",
        "for dirname in os.listdir(trainDir):\n",
        "    if dirname in class_names:\n",
        "        print(dirname)\n",
        "        classdir = trainDir + '//' + dirname\n",
        "        for filename in os.listdir(classdir):\n",
        "            if filename.endswith('.jpg'):\n",
        "                fnWithPath = classdir + '//' + filename\n",
        "                image_data = skimage.io.imread(fnWithPath)\n",
        "                new_image_data = skimage.transform.resize(image_data,(150,150,channels))\n",
        "                new_image_data = new_image_data.reshape((1, 150, 150, channels)).astype(np.float32) / normalizationVal\n",
        "                X_train.append(new_image_data)\n",
        "                y_train.append(dirname)\n",
        "        \n",
        "#For the validation images\n",
        "for dirname in os.listdir(testDir):\n",
        "    if dirname in class_names:\n",
        "        classdir = testDir + '//' + dirname\n",
        "        for filename in os.listdir(classdir):\n",
        "            if filename.endswith('.jpg'):\n",
        "                fnWithPath = classdir + '//' + filename\n",
        "                image_data = skimage.io.imread(fnWithPath)\n",
        "                new_image_data = skimage.transform.resize(image_data,(150,150,channels))\n",
        "                new_image_data = new_image_data.reshape((1, 150, 150, channels)).astype(np.float32) / normalizationVal\n",
        "                X_test.append(new_image_data)\n",
        "                y_test.append(dirname)\n",
        "                \n",
        "\n"
      ],
      "execution_count": 12,
      "outputs": [
        {
          "output_type": "stream",
          "text": [
            "cars\n",
            "planes\n"
          ],
          "name": "stdout"
        }
      ]
    },
    {
      "cell_type": "code",
      "metadata": {
        "id": "LK0jz0rQCr0b",
        "colab_type": "code",
        "colab": {
          "base_uri": "https://localhost:8080/",
          "height": 85
        },
        "outputId": "534c95dd-f716-4232-ffeb-321b661bd204"
      },
      "source": [
        "print(np.size(X_train))\n",
        "print(np.size(y_train)) #The total number of train images\n",
        "print(np.size(X_test))\n",
        "print(np.size(y_test))  #The total number of test images"
      ],
      "execution_count": 14,
      "outputs": [
        {
          "output_type": "stream",
          "text": [
            "27000000\n",
            "400\n",
            "6750000\n",
            "100\n"
          ],
          "name": "stdout"
        }
      ]
    },
    {
      "cell_type": "code",
      "metadata": {
        "id": "rDcvw53oCB--",
        "colab_type": "code",
        "colab": {}
      },
      "source": [
        "X_train = np.reshape(X_train,(np.size(y_train),150,150,channels))\n",
        "y_train = np.reshape(y_train,(np.size(y_train),1))\n",
        "X_test = np.reshape(X_test,(np.size(y_test),150,150,channels))\n",
        "y_test = np.reshape(y_test,(np.size(y_test),1))"
      ],
      "execution_count": 0,
      "outputs": []
    },
    {
      "cell_type": "code",
      "metadata": {
        "id": "ePl-VTk-CD39",
        "colab_type": "code",
        "colab": {}
      },
      "source": [
        "y_train = label_binarize(y_train, classes = class_names)\n",
        "y_test = label_binarize(y_test, classes = class_names)"
      ],
      "execution_count": 0,
      "outputs": []
    },
    {
      "cell_type": "code",
      "metadata": {
        "id": "eKoxo8gfCGZF",
        "colab_type": "code",
        "colab": {
          "base_uri": "https://localhost:8080/",
          "height": 544
        },
        "outputId": "a32a13a2-b4d0-4756-f8fe-65826cb6f8f8"
      },
      "source": [
        "#%% Define model\n",
        "model = models.Sequential()\n",
        "model.add(layers.Conv2D(32, (3, 3), activation='relu', input_shape=(150, 150, 3)))\n",
        "model.add(layers.MaxPooling2D((2, 2)))\n",
        "model.add(layers.Conv2D(64, (3, 3), activation='relu'))\n",
        "model.add(layers.MaxPooling2D((2, 2)))\n",
        "model.add(layers.Conv2D(128, (3, 3), activation='relu'))\n",
        "model.add(layers.MaxPooling2D((2, 2)))\n",
        "model.add(layers.Conv2D(128, (3, 3), activation='relu'))\n",
        "model.add(layers.MaxPooling2D((2, 2)))\n",
        "model.add(layers.Flatten())\n",
        "model.add(layers.Dropout(0.5))\n",
        "model.add(layers.Dense(512, activation='relu'))\n",
        "model.add(layers.Dense(1, activation='sigmoid'))\n",
        "model.summary()"
      ],
      "execution_count": 16,
      "outputs": [
        {
          "output_type": "stream",
          "text": [
            "_________________________________________________________________\n",
            "Layer (type)                 Output Shape              Param #   \n",
            "=================================================================\n",
            "conv2d_5 (Conv2D)            (None, 148, 148, 32)      896       \n",
            "_________________________________________________________________\n",
            "max_pooling2d_5 (MaxPooling2 (None, 74, 74, 32)        0         \n",
            "_________________________________________________________________\n",
            "conv2d_6 (Conv2D)            (None, 72, 72, 64)        18496     \n",
            "_________________________________________________________________\n",
            "max_pooling2d_6 (MaxPooling2 (None, 36, 36, 64)        0         \n",
            "_________________________________________________________________\n",
            "conv2d_7 (Conv2D)            (None, 34, 34, 128)       73856     \n",
            "_________________________________________________________________\n",
            "max_pooling2d_7 (MaxPooling2 (None, 17, 17, 128)       0         \n",
            "_________________________________________________________________\n",
            "conv2d_8 (Conv2D)            (None, 15, 15, 128)       147584    \n",
            "_________________________________________________________________\n",
            "max_pooling2d_8 (MaxPooling2 (None, 7, 7, 128)         0         \n",
            "_________________________________________________________________\n",
            "flatten_2 (Flatten)          (None, 6272)              0         \n",
            "_________________________________________________________________\n",
            "dropout_2 (Dropout)          (None, 6272)              0         \n",
            "_________________________________________________________________\n",
            "dense_3 (Dense)              (None, 512)               3211776   \n",
            "_________________________________________________________________\n",
            "dense_4 (Dense)              (None, 1)                 513       \n",
            "=================================================================\n",
            "Total params: 3,453,121\n",
            "Trainable params: 3,453,121\n",
            "Non-trainable params: 0\n",
            "_________________________________________________________________\n"
          ],
          "name": "stdout"
        }
      ]
    },
    {
      "cell_type": "code",
      "metadata": {
        "id": "OoAHg3pICNQt",
        "colab_type": "code",
        "colab": {
          "base_uri": "https://localhost:8080/",
          "height": 1000
        },
        "outputId": "143b7a6b-a6e7-46a7-c326-707b9399d652"
      },
      "source": [
        "model.compile(loss='binary_crossentropy',\n",
        "              optimizer=optimizers.RMSprop(lr=1e-4),\n",
        "              metrics=['acc'])\n",
        "\n",
        "\n",
        "#%% Executing the model\n",
        "history = model.fit(X_train, \n",
        "                    y_train, \n",
        "                    shuffle         = True,\n",
        "                    epochs          = epochs, \n",
        "                    verbose         = 1, \n",
        "                    batch_size      = batchsize)"
      ],
      "execution_count": 10,
      "outputs": [
        {
          "output_type": "stream",
          "text": [
            "W0724 12:50:55.847667 140134458267520 deprecation_wrapper.py:119] From /usr/local/lib/python3.6/dist-packages/keras/optimizers.py:790: The name tf.train.Optimizer is deprecated. Please use tf.compat.v1.train.Optimizer instead.\n",
            "\n",
            "W0724 12:50:55.853083 140134458267520 deprecation_wrapper.py:119] From /usr/local/lib/python3.6/dist-packages/keras/backend/tensorflow_backend.py:3376: The name tf.log is deprecated. Please use tf.math.log instead.\n",
            "\n",
            "W0724 12:50:55.858465 140134458267520 deprecation.py:323] From /usr/local/lib/python3.6/dist-packages/tensorflow/python/ops/nn_impl.py:180: add_dispatch_support.<locals>.wrapper (from tensorflow.python.ops.array_ops) is deprecated and will be removed in a future version.\n",
            "Instructions for updating:\n",
            "Use tf.where in 2.0, which has the same broadcast rule as np.where\n"
          ],
          "name": "stderr"
        },
        {
          "output_type": "stream",
          "text": [
            "Epoch 1/100\n",
            "400/400 [==============================] - 4s 10ms/step - loss: 0.6934 - acc: 0.4600\n",
            "Epoch 2/100\n",
            "400/400 [==============================] - 0s 974us/step - loss: 0.6932 - acc: 0.4975\n",
            "Epoch 3/100\n",
            "400/400 [==============================] - 0s 964us/step - loss: 0.6923 - acc: 0.5325\n",
            "Epoch 4/100\n",
            "400/400 [==============================] - 0s 967us/step - loss: 0.6887 - acc: 0.5850\n",
            "Epoch 5/100\n",
            "400/400 [==============================] - 0s 972us/step - loss: 0.6737 - acc: 0.5975\n",
            "Epoch 6/100\n",
            "400/400 [==============================] - 0s 957us/step - loss: 0.6500 - acc: 0.6650\n",
            "Epoch 7/100\n",
            "400/400 [==============================] - 0s 951us/step - loss: 0.6167 - acc: 0.7025\n",
            "Epoch 8/100\n",
            "400/400 [==============================] - 0s 976us/step - loss: 0.5803 - acc: 0.7250\n",
            "Epoch 9/100\n",
            "400/400 [==============================] - 0s 950us/step - loss: 0.5668 - acc: 0.7125\n",
            "Epoch 10/100\n",
            "400/400 [==============================] - 0s 965us/step - loss: 0.5233 - acc: 0.7425\n",
            "Epoch 11/100\n",
            "400/400 [==============================] - 0s 956us/step - loss: 0.4882 - acc: 0.7875\n",
            "Epoch 12/100\n",
            "400/400 [==============================] - 0s 976us/step - loss: 0.4929 - acc: 0.7750\n",
            "Epoch 13/100\n",
            "400/400 [==============================] - 0s 988us/step - loss: 0.4750 - acc: 0.7800\n",
            "Epoch 14/100\n",
            "400/400 [==============================] - 0s 975us/step - loss: 0.4597 - acc: 0.7800\n",
            "Epoch 15/100\n",
            "400/400 [==============================] - 0s 966us/step - loss: 0.4623 - acc: 0.7850\n",
            "Epoch 16/100\n",
            "400/400 [==============================] - 0s 969us/step - loss: 0.4718 - acc: 0.7675\n",
            "Epoch 17/100\n",
            "400/400 [==============================] - 0s 963us/step - loss: 0.4073 - acc: 0.8125\n",
            "Epoch 18/100\n",
            "400/400 [==============================] - 0s 960us/step - loss: 0.4461 - acc: 0.8050\n",
            "Epoch 19/100\n",
            "400/400 [==============================] - 0s 963us/step - loss: 0.4251 - acc: 0.7950\n",
            "Epoch 20/100\n",
            "400/400 [==============================] - 0s 967us/step - loss: 0.4731 - acc: 0.7725\n",
            "Epoch 21/100\n",
            "400/400 [==============================] - 0s 954us/step - loss: 0.4306 - acc: 0.8075\n",
            "Epoch 22/100\n",
            "400/400 [==============================] - 0s 958us/step - loss: 0.4011 - acc: 0.8175\n",
            "Epoch 23/100\n",
            "400/400 [==============================] - 0s 976us/step - loss: 0.4235 - acc: 0.7900\n",
            "Epoch 24/100\n",
            "400/400 [==============================] - 0s 957us/step - loss: 0.4441 - acc: 0.7900\n",
            "Epoch 25/100\n",
            "400/400 [==============================] - 0s 962us/step - loss: 0.3974 - acc: 0.8125\n",
            "Epoch 26/100\n",
            "400/400 [==============================] - 0s 952us/step - loss: 0.4354 - acc: 0.7925\n",
            "Epoch 27/100\n",
            "400/400 [==============================] - 0s 970us/step - loss: 0.4189 - acc: 0.8125\n",
            "Epoch 28/100\n",
            "400/400 [==============================] - 0s 954us/step - loss: 0.4352 - acc: 0.7825\n",
            "Epoch 29/100\n",
            "400/400 [==============================] - 0s 976us/step - loss: 0.4157 - acc: 0.8050\n",
            "Epoch 30/100\n",
            "400/400 [==============================] - 0s 955us/step - loss: 0.4418 - acc: 0.7975\n",
            "Epoch 31/100\n",
            "400/400 [==============================] - 0s 954us/step - loss: 0.4046 - acc: 0.8200\n",
            "Epoch 32/100\n",
            "400/400 [==============================] - 0s 982us/step - loss: 0.4122 - acc: 0.7975\n",
            "Epoch 33/100\n",
            "400/400 [==============================] - 0s 954us/step - loss: 0.3936 - acc: 0.8200\n",
            "Epoch 34/100\n",
            "400/400 [==============================] - 0s 971us/step - loss: 0.4109 - acc: 0.7975\n",
            "Epoch 35/100\n",
            "400/400 [==============================] - 0s 963us/step - loss: 0.4214 - acc: 0.7975\n",
            "Epoch 36/100\n",
            "400/400 [==============================] - 0s 947us/step - loss: 0.4242 - acc: 0.7950\n",
            "Epoch 37/100\n",
            "400/400 [==============================] - 0s 965us/step - loss: 0.3670 - acc: 0.8250\n",
            "Epoch 38/100\n",
            "400/400 [==============================] - 0s 953us/step - loss: 0.3886 - acc: 0.8175\n",
            "Epoch 39/100\n",
            "400/400 [==============================] - 0s 969us/step - loss: 0.4142 - acc: 0.7975\n",
            "Epoch 40/100\n",
            "400/400 [==============================] - 0s 963us/step - loss: 0.4123 - acc: 0.8125\n",
            "Epoch 41/100\n",
            "400/400 [==============================] - 0s 963us/step - loss: 0.4203 - acc: 0.7975\n",
            "Epoch 42/100\n",
            "400/400 [==============================] - 0s 985us/step - loss: 0.4052 - acc: 0.8075\n",
            "Epoch 43/100\n",
            "400/400 [==============================] - 0s 966us/step - loss: 0.3683 - acc: 0.8350\n",
            "Epoch 44/100\n",
            "400/400 [==============================] - 0s 970us/step - loss: 0.3858 - acc: 0.8250\n",
            "Epoch 45/100\n",
            "400/400 [==============================] - 0s 982us/step - loss: 0.3480 - acc: 0.8400\n",
            "Epoch 46/100\n",
            "400/400 [==============================] - 0s 961us/step - loss: 0.4073 - acc: 0.8125\n",
            "Epoch 47/100\n",
            "400/400 [==============================] - 0s 965us/step - loss: 0.3799 - acc: 0.8200\n",
            "Epoch 48/100\n",
            "400/400 [==============================] - 0s 963us/step - loss: 0.3578 - acc: 0.8575\n",
            "Epoch 49/100\n",
            "400/400 [==============================] - 0s 978us/step - loss: 0.4197 - acc: 0.8225\n",
            "Epoch 50/100\n",
            "400/400 [==============================] - 0s 968us/step - loss: 0.3784 - acc: 0.8175\n",
            "Epoch 51/100\n",
            "400/400 [==============================] - 0s 962us/step - loss: 0.3718 - acc: 0.8350\n",
            "Epoch 52/100\n",
            "400/400 [==============================] - 0s 961us/step - loss: 0.3765 - acc: 0.8500\n",
            "Epoch 53/100\n",
            "400/400 [==============================] - 0s 969us/step - loss: 0.3941 - acc: 0.8300\n",
            "Epoch 54/100\n",
            "400/400 [==============================] - 0s 964us/step - loss: 0.3599 - acc: 0.8450\n",
            "Epoch 55/100\n",
            "400/400 [==============================] - 0s 963us/step - loss: 0.3479 - acc: 0.8500\n",
            "Epoch 56/100\n",
            "400/400 [==============================] - 0s 959us/step - loss: 0.3873 - acc: 0.8225\n",
            "Epoch 57/100\n",
            "400/400 [==============================] - 0s 978us/step - loss: 0.3764 - acc: 0.8250\n",
            "Epoch 58/100\n",
            "400/400 [==============================] - 0s 967us/step - loss: 0.3721 - acc: 0.8275\n",
            "Epoch 59/100\n",
            "400/400 [==============================] - 0s 955us/step - loss: 0.3532 - acc: 0.8500\n",
            "Epoch 60/100\n",
            "400/400 [==============================] - 0s 965us/step - loss: 0.3609 - acc: 0.8525\n",
            "Epoch 61/100\n",
            "400/400 [==============================] - 0s 981us/step - loss: 0.3815 - acc: 0.8200\n",
            "Epoch 62/100\n",
            "400/400 [==============================] - 0s 969us/step - loss: 0.3292 - acc: 0.8600\n",
            "Epoch 63/100\n",
            "400/400 [==============================] - 0s 969us/step - loss: 0.3662 - acc: 0.8350\n",
            "Epoch 64/100\n",
            "400/400 [==============================] - 0s 957us/step - loss: 0.3586 - acc: 0.8350\n",
            "Epoch 65/100\n",
            "400/400 [==============================] - 0s 975us/step - loss: 0.3953 - acc: 0.8300\n",
            "Epoch 66/100\n",
            "400/400 [==============================] - 0s 970us/step - loss: 0.3632 - acc: 0.8475\n",
            "Epoch 67/100\n",
            "400/400 [==============================] - 0s 961us/step - loss: 0.3959 - acc: 0.8250\n",
            "Epoch 68/100\n",
            "400/400 [==============================] - 0s 958us/step - loss: 0.3306 - acc: 0.8575\n",
            "Epoch 69/100\n",
            "400/400 [==============================] - 0s 967us/step - loss: 0.3672 - acc: 0.8375\n",
            "Epoch 70/100\n",
            "400/400 [==============================] - 0s 990us/step - loss: 0.3512 - acc: 0.8325\n",
            "Epoch 71/100\n",
            "400/400 [==============================] - 0s 976us/step - loss: 0.3727 - acc: 0.8375\n",
            "Epoch 72/100\n",
            "400/400 [==============================] - 0s 963us/step - loss: 0.3695 - acc: 0.8400\n",
            "Epoch 73/100\n",
            "400/400 [==============================] - 0s 966us/step - loss: 0.3336 - acc: 0.8575\n",
            "Epoch 74/100\n",
            "400/400 [==============================] - 0s 960us/step - loss: 0.3648 - acc: 0.8275\n",
            "Epoch 75/100\n",
            "400/400 [==============================] - 0s 968us/step - loss: 0.3729 - acc: 0.8275\n",
            "Epoch 76/100\n",
            "400/400 [==============================] - 0s 974us/step - loss: 0.3454 - acc: 0.8425\n",
            "Epoch 77/100\n",
            "400/400 [==============================] - 0s 952us/step - loss: 0.3463 - acc: 0.8425\n",
            "Epoch 78/100\n",
            "400/400 [==============================] - 0s 962us/step - loss: 0.3680 - acc: 0.8325\n",
            "Epoch 79/100\n",
            "400/400 [==============================] - 0s 954us/step - loss: 0.3498 - acc: 0.8600\n",
            "Epoch 80/100\n",
            "400/400 [==============================] - 0s 971us/step - loss: 0.3387 - acc: 0.8600\n",
            "Epoch 81/100\n",
            "400/400 [==============================] - 0s 970us/step - loss: 0.3594 - acc: 0.8400\n",
            "Epoch 82/100\n",
            "400/400 [==============================] - 0s 959us/step - loss: 0.3403 - acc: 0.8550\n",
            "Epoch 83/100\n",
            "400/400 [==============================] - 0s 971us/step - loss: 0.3261 - acc: 0.8550\n",
            "Epoch 84/100\n",
            "400/400 [==============================] - 0s 959us/step - loss: 0.3496 - acc: 0.8350\n",
            "Epoch 85/100\n",
            "400/400 [==============================] - 0s 962us/step - loss: 0.3573 - acc: 0.8575\n",
            "Epoch 86/100\n",
            "400/400 [==============================] - 0s 962us/step - loss: 0.3454 - acc: 0.8550\n",
            "Epoch 87/100\n",
            "400/400 [==============================] - 0s 970us/step - loss: 0.3466 - acc: 0.8500\n",
            "Epoch 88/100\n",
            "400/400 [==============================] - 0s 955us/step - loss: 0.3326 - acc: 0.8500\n",
            "Epoch 89/100\n",
            "400/400 [==============================] - 0s 947us/step - loss: 0.3276 - acc: 0.8575\n",
            "Epoch 90/100\n",
            "400/400 [==============================] - 0s 956us/step - loss: 0.3165 - acc: 0.8575\n",
            "Epoch 91/100\n",
            "400/400 [==============================] - 0s 967us/step - loss: 0.3189 - acc: 0.8675\n",
            "Epoch 92/100\n",
            "400/400 [==============================] - 0s 949us/step - loss: 0.3529 - acc: 0.8500\n",
            "Epoch 93/100\n",
            "400/400 [==============================] - 0s 955us/step - loss: 0.3218 - acc: 0.8600\n",
            "Epoch 94/100\n",
            "400/400 [==============================] - 0s 964us/step - loss: 0.3214 - acc: 0.8625\n",
            "Epoch 95/100\n",
            "400/400 [==============================] - 0s 973us/step - loss: 0.3108 - acc: 0.8675\n",
            "Epoch 96/100\n",
            "400/400 [==============================] - 0s 972us/step - loss: 0.3298 - acc: 0.8575\n",
            "Epoch 97/100\n",
            "400/400 [==============================] - 0s 959us/step - loss: 0.3088 - acc: 0.8750\n",
            "Epoch 98/100\n",
            "400/400 [==============================] - 0s 964us/step - loss: 0.3370 - acc: 0.8425\n",
            "Epoch 99/100\n",
            "400/400 [==============================] - 0s 944us/step - loss: 0.3246 - acc: 0.8475\n",
            "Epoch 100/100\n",
            "400/400 [==============================] - 0s 946us/step - loss: 0.2864 - acc: 0.8850\n"
          ],
          "name": "stdout"
        }
      ]
    },
    {
      "cell_type": "code",
      "metadata": {
        "id": "stJo4bvWCajO",
        "colab_type": "code",
        "colab": {
          "base_uri": "https://localhost:8080/",
          "height": 34
        },
        "outputId": "1beb1cb0-eb6c-435f-dad3-7f1fb2efc672"
      },
      "source": [
        "#%% Predict Model\n",
        "\n",
        "pred_y=model.predict(X_test)\n",
        "pred_y_class=model.predict_classes(X_test)\n",
        "pred_y_class_prob=model.predict_proba(X_test)\n",
        "from sklearn.metrics import accuracy_score\n",
        "\n",
        "# Print accuracy\n",
        "accuracy_score(y_test, pred_y_class)"
      ],
      "execution_count": 11,
      "outputs": [
        {
          "output_type": "execute_result",
          "data": {
            "text/plain": [
              "0.81"
            ]
          },
          "metadata": {
            "tags": []
          },
          "execution_count": 11
        }
      ]
    }
  ]
}
{
  "nbformat": 4,
  "nbformat_minor": 0,
  "metadata": {
    "anaconda-cloud": {},
    "kernelspec": {
      "display_name": "Python 3.6 (tensorflow-2.0)",
      "language": "python",
      "name": "tensorflow-2.0"
    },
    "language_info": {
      "codemirror_mode": {
        "name": "ipython",
        "version": 3
      },
      "file_extension": ".py",
      "mimetype": "text/x-python",
      "name": "python",
      "nbconvert_exporter": "python",
      "pygments_lexer": "ipython3",
      "version": "3.6.8"
    },
    "colab": {
      "name": "Day2_Part1_RNN_LSTM.ipynb",
      "version": "0.3.2",
      "provenance": [],
      "include_colab_link": true
    }
  },
  "cells": [
    {
      "cell_type": "markdown",
      "metadata": {
        "id": "view-in-github",
        "colab_type": "text"
      },
      "source": [
        "<a href=\"https://colab.research.google.com/github/sagihaider/IADS_SummerSchool_NN_2019/blob/master/Day2_Part1_RNN_LSTM.ipynb\" target=\"_parent\"><img src=\"https://colab.research.google.com/assets/colab-badge.svg\" alt=\"Open In Colab\"/></a>"
      ]
    },
    {
      "cell_type": "markdown",
      "metadata": {
        "id": "63JsmDDrGH_x",
        "colab_type": "text"
      },
      "source": [
        "# Recurrent Neural Networks\n",
        "\n"
      ]
    },
    {
      "cell_type": "markdown",
      "metadata": {
        "id": "UZhKEkd8GH_y",
        "colab_type": "text"
      },
      "source": [
        "## Part 2: Programming LSTM with Keras and TensorFlow\n",
        "\n",
        "So far the neural networks that we’ve examined have always had forward connections.  The input layer always connects to the first hidden layer.  Each hidden layer always connects to the next hidden layer.  The final hidden layer always connects to the output layer.  This manner to connect layers is the reason that these networks are called “feedforward.”  Recurrent neural networks are not so rigid, as backward connections are also allowed. A recurrent connection links a neuron in a layer to either a previous layer or the neuron itself.  Most recurrent neural network architectures maintain state in the recurrent connections.  Feedforward neural networks don’t maintain any state.  A recurrent neural network’s state acts as a sort of short-term memory for the neural network.  Consequently, a recurrent neural network will not always produce the same output for a given input.\n",
        "\n",
        "Recurrent neural networks do not force the connections to flow only from one layer to the next, from input layer to output layer.  A recurrent connection occurs when a connection is formed between a neuron and one of the following other types of neurons:\n",
        "\n",
        "* The neuron itself\n",
        "* A neuron on the same level\n",
        "* A neuron on a previous level\n",
        "\n",
        "Recurrent connections can never target the input neurons or the bias neurons.  \n",
        "The processing of recurrent connections can be challenging. Because the recurrent links create endless loops, the neural network must have some way to know when to stop.  A neural network that entered an endless loop would not be useful.  To prevent endless loops, we can calculate the recurrent connections with the following three approaches:\n",
        "\n",
        "* Context neurons\n",
        "* Calculating output over a fixed number of iterations\n",
        "* Calculating output until neuron output stabilizes\n",
        "\n",
        "We refer to neural networks that use context neurons as a simple recurrent network (SRN).  The context neuron is a special neuron type that remembers its input and provides that input as its output the next time that we calculate the network.  For example, if we gave a context neuron 0.5 as input, it would output 0.  Context neurons always output 0 on their first call.  However, if we gave the context neuron a 0.6 as input, the output would be 0.5.  We never weight the input connections to a context neuron, but we can weight the output from a context neuron just like any other connection in a network.  \n",
        "\n",
        "Context neurons allow us to calculate a neural network in a single feedforward pass.  Context neurons usually occur in layers.  A layer of context neurons will always have the same number of context neurons as neurons in its source layer, as demonstrated here:\n",
        "\n",
        "![Context Layers](https://raw.githubusercontent.com/jeffheaton/t81_558_deep_learning/master/images/class_10_context_layer.png \"Context Layers\")\n",
        "\n",
        "As you can see from the above layer, two hidden neurons that are labeled hidden 1 and hidden 2 directly connect to the two context neurons.  The dashed lines on these connections indicate that these are not weighted connections. These weightless connections are never dense.  If these connections were dense, hidden 1 would be connected to both hidden 1 and hidden 2.  However, the direct connection simply joins each hidden neuron to its corresponding context neuron.  The two context neurons form dense, weighted connections to the two hidden neurons.  Finally, the two hidden neurons also form dense connections to the neurons in the next layer.  The two context neurons would form two connections to a single neuron in the next layer, four connections to two neurons, six connections to three neurons, and so on.\n",
        "\n",
        "You can combine context neurons with the input, hidden, and output layers of a neural network in many different ways.  In the next two sections, we explore two common SRN architectures."
      ]
    },
    {
      "cell_type": "markdown",
      "metadata": {
        "id": "9S_kacuWGH_y",
        "colab_type": "text"
      },
      "source": [
        "# Understanding LSTM\n",
        "\n",
        "Some useful resources on LSTM/recurrent neural networks.\n",
        "\n",
        "* [Understanding LSTM Networks](http://colah.github.io/posts/2015-08-Understanding-LSTMs/)\n",
        "* [Recurrent Neural Networks in TensorFlow](https://www.tensorflow.org/versions/r0.11/tutorials/recurrent/index.html)\n",
        "\n",
        "Long Short Term Neural Network (LSTM) are a type of recurrent unit that is often used with deep neural networks.  For TensorFlow, LSTM can be thought of as a layer type that can be combined with other layer types, such as dense.  LSTM makes use two transfer function types internally.  \n",
        "\n",
        "The first type of transfer function is the sigmoid.  This transfer function type is used form gates inside of the unit.  The sigmoid transfer function is given by the following equation:\n",
        "\n",
        "$$ \\text{S}(t) = \\frac{1}{1 + e^{-t}} $$\n",
        "\n",
        "The second type of transfer function is the hyperbolic tangent (tanh) function.  This function is used to scale the output of the LSTM, similarly to how other transfer functions have been used in this course.  \n",
        "\n",
        "The graphs for these functions are shown here:"
      ]
    },
    {
      "cell_type": "code",
      "metadata": {
        "id": "VOtO8ChPGH_z",
        "colab_type": "code",
        "outputId": "8af65f47-992c-4f1e-cf14-2b38f9408e52",
        "colab": {
          "base_uri": "https://localhost:8080/",
          "height": 555
        }
      },
      "source": [
        "%matplotlib inline\n",
        "\n",
        "import matplotlib\n",
        "import numpy as np\n",
        "import matplotlib.pyplot as plt\n",
        "import math\n",
        "\n",
        "def sigmoid(x):\n",
        "    a = []\n",
        "    for item in x:\n",
        "        a.append(1/(1+math.exp(-item)))\n",
        "    return a\n",
        "\n",
        "def f2(x):\n",
        "    a = []\n",
        "    for item in x:\n",
        "        a.append(math.tanh(item))\n",
        "    return a\n",
        "\n",
        "x = np.arange(-10., 10., 0.2)\n",
        "y1 = sigmoid(x)\n",
        "y2 = f2(x)\n",
        "\n",
        "print(\"Sigmoid\")\n",
        "plt.plot(x,y1)\n",
        "plt.show()\n",
        "\n",
        "print(\"Hyperbolic Tangent(tanh)\")\n",
        "plt.plot(x,y2)\n",
        "plt.show()"
      ],
      "execution_count": 0,
      "outputs": [
        {
          "output_type": "stream",
          "text": [
            "Sigmoid\n"
          ],
          "name": "stdout"
        },
        {
          "output_type": "display_data",
          "data": {
            "image/png": "[encoded data removed]",
            "text/plain": [
              "<Figure size 432x288 with 1 Axes>"
            ]
          },
          "metadata": {
            "tags": []
          }
        },
        {
          "output_type": "stream",
          "text": [
            "Hyperbolic Tangent(tanh)\n"
          ],
          "name": "stdout"
        },
        {
          "output_type": "display_data",
          "data": {
            "image/png": "[encoded data removed]",
            "text/plain": [
              "<Figure size 432x288 with 1 Axes>"
            ]
          },
          "metadata": {
            "tags": []
          }
        }
      ]
    },
    {
      "cell_type": "markdown",
      "metadata": {
        "id": "c2pljKo2GH_3",
        "colab_type": "text"
      },
      "source": [
        "Both of these two functions compress their output to a specific range.  For the sigmoid function, this range is 0 to 1.  For the hyperbolic tangent function, this range is -1 to 1.\n",
        "\n",
        "LSTM maintains an internal state and produces an output.  The following diagram shows an LSTM unit over three time slices: the current time slice (t), as well as the previous (t-1) and next (t+1) slice:\n",
        "\n",
        "![LSTM Layers](https://raw.githubusercontent.com/jeffheaton/t81_558_deep_learning/master/images/class_10_lstm1.png \"LSTM Layers\")\n",
        "\n",
        "The values $\\hat{y}$ are the output from the unit, the values ($x$) are the input to the unit and the values $c$ are the context values.  Both the output and context values are always fed to the next time slice.  The context values allow \n",
        "\n",
        "![LSTM Layers](https://raw.githubusercontent.com/jeffheaton/t81_558_deep_learning/master/images/class_10_lstm2.png \"Inside the LSTM\")\n",
        "\n",
        "LSTM is made up of three gates:\n",
        "\n",
        "* Forget Gate (f_t) - Controls if/when the context is forgotten. (MC)\n",
        "* Input Gate (i_t) - Controls if/when a value should be remembered by the context. (M+/MS)\n",
        "* Output Gate (o_t) - Controls if/when the remembered value is allowed to pass from the unit. (RM)\n",
        "\n",
        "Mathematically, the above diagram can be thought of as the following:\n",
        "\n",
        "**These are vector values.**\n",
        "\n",
        "First, calculate the forget gate value.  This gate determines if the short term memory is forgotten.  The value $b$ is a bias, just like the bias neurons we saw before.  Except LSTM has a bias for every gate: $b_t$, $b_i$, and $b_o$.\n",
        "\n",
        "$$ f_t = S(W_f \\cdot [\\hat{y}_{t-1}, x_t] + b_f) $$\n",
        "$$ i_t = S(W_i \\cdot [\\hat{y}_{t-1},x_t] + b_i) $$\n",
        "$$ \\tilde{C}_t = \\tanh(W_C \\cdot [\\hat{y}_{t-1},x_t]+b_C) $$\n",
        "$$ C_t = f_t \\cdot C_{t-1}+i_t \\cdot \\tilde{C}_t $$\n",
        "$$ o_t = S(W_o \\cdot [\\hat{y}_{t-1},x_t] + b_o ) $$\n",
        "$$ \\hat{y}_t = o_t \\cdot \\tanh(C_t) $$\n"
      ]
    },
    {
      "cell_type": "markdown",
      "metadata": {
        "id": "loHWxMtDGH_3",
        "colab_type": "text"
      },
      "source": [
        "# Simple TensorFlow LSTM Example\n",
        "\n",
        "The following code creates the LSTM network.  This is an example of RNN classification.  The following code trains on a data set (x) with a max sequence size of 6 (columns) and 6 training elements (rows)"
      ]
    },
    {
      "cell_type": "code",
      "metadata": {
        "id": "KkF8FLbjGH_4",
        "colab_type": "code",
        "outputId": "cc9c1d0f-3348-498b-ed04-5c9f9f0dc1c5",
        "colab": {
          "base_uri": "https://localhost:8080/",
          "height": 1000
        }
      },
      "source": [
        "from tensorflow.keras.preprocessing import sequence\n",
        "from tensorflow.keras.models import Sequential\n",
        "from tensorflow.keras.layers import Dense, Embedding\n",
        "from tensorflow.keras.layers import LSTM\n",
        "import numpy as np\n",
        "\n",
        "max_features = 4 # 0,1,2,3 (total of 4)\n",
        "x = [\n",
        "    [[0],[1],[1],[0],[0],[0]],\n",
        "    [[0],[0],[0],[2],[2],[0]],\n",
        "    [[0],[0],[0],[0],[3],[3]],\n",
        "    [[0],[2],[2],[0],[0],[0]],\n",
        "    [[0],[0],[3],[3],[0],[0]],\n",
        "    [[0],[0],[0],[0],[1],[1]]\n",
        "]\n",
        "x = np.array(x,dtype=np.float32)\n",
        "y = np.array([1,2,3,2,3,1],dtype=np.int32)\n",
        "\n",
        "# Convert y2 to dummy variables\n",
        "y2 = np.zeros((y.shape[0], max_features),dtype=np.float32)\n",
        "y2[np.arange(y.shape[0]), y] = 1.0\n",
        "print(y2)\n",
        "\n",
        "print('Build model...')\n",
        "model = Sequential()\n",
        "model.add(LSTM(128, dropout=0.2, recurrent_dropout=0.2, input_shape=(None, 1)))\n",
        "model.add(Dense(4, activation='sigmoid'))\n",
        "\n",
        "# try using different optimizers and different optimizer configs\n",
        "model.compile(loss='binary_crossentropy',\n",
        "              optimizer='adam',\n",
        "              metrics=['accuracy'])\n",
        "\n",
        "print('Train...')\n",
        "model.fit(x,y2,epochs=200)\n",
        "pred = model.predict(x)\n",
        "predict_classes = np.argmax(pred,axis=1)\n",
        "print(\"Predicted classes: {}\",predict_classes)\n",
        "print(\"Expected classes: {}\",predict_classes)"
      ],
      "execution_count": 0,
      "outputs": [
        {
          "output_type": "stream",
          "text": [
            "WARNING: Logging before flag parsing goes to stderr.\n",
            "W0723 13:51:35.730517 140658140346240 deprecation.py:506] From /usr/local/lib/python3.6/dist-packages/tensorflow/python/ops/init_ops.py:1251: calling VarianceScaling.__init__ (from tensorflow.python.ops.init_ops) with dtype is deprecated and will be removed in a future version.\n",
            "Instructions for updating:\n",
            "Call initializer instance with the dtype argument instead of passing it to the constructor\n"
          ],
          "name": "stderr"
        },
        {
          "output_type": "stream",
          "text": [
            "[[0. 1. 0. 0.]\n",
            " [0. 0. 1. 0.]\n",
            " [0. 0. 0. 1.]\n",
            " [0. 0. 1. 0.]\n",
            " [0. 0. 0. 1.]\n",
            " [0. 1. 0. 0.]]\n",
            "Build model...\n"
          ],
          "name": "stdout"
        },
        {
          "output_type": "stream",
          "text": [
            "W0723 13:51:36.271446 140658140346240 deprecation.py:323] From /usr/local/lib/python3.6/dist-packages/tensorflow/python/ops/nn_impl.py:180: add_dispatch_support.<locals>.wrapper (from tensorflow.python.ops.array_ops) is deprecated and will be removed in a future version.\n",
            "Instructions for updating:\n",
            "Use tf.where in 2.0, which has the same broadcast rule as np.where\n"
          ],
          "name": "stderr"
        },
        {
          "output_type": "stream",
          "text": [
            "Train...\n",
            "Epoch 1/200\n",
            "6/6 [==============================] - 1s 129ms/sample - loss: 0.7092 - acc: 0.3750\n",
            "Epoch 2/200\n",
            "6/6 [==============================] - 0s 3ms/sample - loss: 0.6971 - acc: 0.4167\n",
            "Epoch 3/200\n",
            "6/6 [==============================] - 0s 3ms/sample - loss: 0.6904 - acc: 0.5417\n",
            "Epoch 4/200\n",
            "6/6 [==============================] - 0s 2ms/sample - loss: 0.6809 - acc: 0.7083\n",
            "Epoch 5/200\n",
            "6/6 [==============================] - 0s 2ms/sample - loss: 0.6783 - acc: 0.7083\n",
            "Epoch 6/200\n",
            "6/6 [==============================] - 0s 2ms/sample - loss: 0.6731 - acc: 0.6250\n",
            "Epoch 7/200\n",
            "6/6 [==============================] - 0s 2ms/sample - loss: 0.6594 - acc: 0.6667\n",
            "Epoch 8/200\n",
            "6/6 [==============================] - 0s 2ms/sample - loss: 0.6705 - acc: 0.5833\n",
            "Epoch 9/200\n",
            "6/6 [==============================] - 0s 2ms/sample - loss: 0.6645 - acc: 0.6667\n",
            "Epoch 10/200\n",
            "6/6 [==============================] - 0s 2ms/sample - loss: 0.6313 - acc: 0.7083\n",
            "Epoch 11/200\n",
            "6/6 [==============================] - 0s 2ms/sample - loss: 0.6382 - acc: 0.7083\n",
            "Epoch 12/200\n",
            "6/6 [==============================] - 0s 2ms/sample - loss: 0.6331 - acc: 0.7500\n",
            "Epoch 13/200\n",
            "6/6 [==============================] - 0s 3ms/sample - loss: 0.6141 - acc: 0.7083\n",
            "Epoch 14/200\n",
            "6/6 [==============================] - 0s 2ms/sample - loss: 0.6211 - acc: 0.6667\n",
            "Epoch 15/200\n",
            "6/6 [==============================] - 0s 3ms/sample - loss: 0.6148 - acc: 0.7500\n",
            "Epoch 16/200\n",
            "6/6 [==============================] - 0s 3ms/sample - loss: 0.6065 - acc: 0.7500\n",
            "Epoch 17/200\n",
            "6/6 [==============================] - 0s 3ms/sample - loss: 0.5812 - acc: 0.7500\n",
            "Epoch 18/200\n",
            "6/6 [==============================] - 0s 3ms/sample - loss: 0.5953 - acc: 0.7500\n",
            "Epoch 19/200\n",
            "6/6 [==============================] - 0s 3ms/sample - loss: 0.5584 - acc: 0.7500\n",
            "Epoch 20/200\n",
            "6/6 [==============================] - 0s 2ms/sample - loss: 0.5555 - acc: 0.7500\n",
            "Epoch 21/200\n",
            "6/6 [==============================] - 0s 2ms/sample - loss: 0.5749 - acc: 0.7500\n",
            "Epoch 22/200\n",
            "6/6 [==============================] - 0s 2ms/sample - loss: 0.6139 - acc: 0.7500\n",
            "Epoch 23/200\n",
            "6/6 [==============================] - 0s 2ms/sample - loss: 0.5495 - acc: 0.7500\n",
            "Epoch 24/200\n",
            "6/6 [==============================] - 0s 2ms/sample - loss: 0.5193 - acc: 0.7500\n",
            "Epoch 25/200\n",
            "6/6 [==============================] - 0s 3ms/sample - loss: 0.5120 - acc: 0.7500\n",
            "Epoch 26/200\n",
            "6/6 [==============================] - 0s 2ms/sample - loss: 0.5652 - acc: 0.7500\n",
            "Epoch 27/200\n",
            "6/6 [==============================] - 0s 2ms/sample - loss: 0.5592 - acc: 0.7500\n",
            "Epoch 28/200\n",
            "6/6 [==============================] - 0s 3ms/sample - loss: 0.5463 - acc: 0.7500\n",
            "Epoch 29/200\n",
            "6/6 [==============================] - 0s 3ms/sample - loss: 0.5193 - acc: 0.7500\n",
            "Epoch 30/200\n",
            "6/6 [==============================] - 0s 3ms/sample - loss: 0.4819 - acc: 0.7500\n",
            "Epoch 31/200\n",
            "6/6 [==============================] - 0s 3ms/sample - loss: 0.4849 - acc: 0.7500\n",
            "Epoch 32/200\n",
            "6/6 [==============================] - 0s 2ms/sample - loss: 0.4750 - acc: 0.7500\n",
            "Epoch 33/200\n",
            "6/6 [==============================] - 0s 3ms/sample - loss: 0.5499 - acc: 0.7500\n",
            "Epoch 34/200\n",
            "6/6 [==============================] - 0s 3ms/sample - loss: 0.5052 - acc: 0.7500\n",
            "Epoch 35/200\n",
            "6/6 [==============================] - 0s 3ms/sample - loss: 0.4930 - acc: 0.7500\n",
            "Epoch 36/200\n",
            "6/6 [==============================] - 0s 3ms/sample - loss: 0.4763 - acc: 0.7500\n",
            "Epoch 37/200\n",
            "6/6 [==============================] - 0s 3ms/sample - loss: 0.4761 - acc: 0.7500\n",
            "Epoch 38/200\n",
            "6/6 [==============================] - 0s 3ms/sample - loss: 0.4892 - acc: 0.7500\n",
            "Epoch 39/200\n",
            "6/6 [==============================] - 0s 3ms/sample - loss: 0.4761 - acc: 0.7500\n",
            "Epoch 40/200\n",
            "6/6 [==============================] - 0s 3ms/sample - loss: 0.4724 - acc: 0.7500\n",
            "Epoch 41/200\n",
            "6/6 [==============================] - 0s 3ms/sample - loss: 0.4463 - acc: 0.7500\n",
            "Epoch 42/200\n",
            "6/6 [==============================] - 0s 2ms/sample - loss: 0.4376 - acc: 0.7500\n",
            "Epoch 43/200\n",
            "6/6 [==============================] - 0s 3ms/sample - loss: 0.4320 - acc: 0.7500\n",
            "Epoch 44/200\n",
            "6/6 [==============================] - 0s 3ms/sample - loss: 0.4292 - acc: 0.7500\n",
            "Epoch 45/200\n",
            "6/6 [==============================] - 0s 3ms/sample - loss: 0.4271 - acc: 0.7500\n",
            "Epoch 46/200\n",
            "6/6 [==============================] - 0s 2ms/sample - loss: 0.4631 - acc: 0.7500\n",
            "Epoch 47/200\n",
            "6/6 [==============================] - 0s 2ms/sample - loss: 0.4153 - acc: 0.7917\n",
            "Epoch 48/200\n",
            "6/6 [==============================] - 0s 2ms/sample - loss: 0.4077 - acc: 0.7917\n",
            "Epoch 49/200\n",
            "6/6 [==============================] - 0s 2ms/sample - loss: 0.4503 - acc: 0.7083\n",
            "Epoch 50/200\n",
            "6/6 [==============================] - 0s 3ms/sample - loss: 0.4289 - acc: 0.7083\n",
            "Epoch 51/200\n",
            "6/6 [==============================] - 0s 3ms/sample - loss: 0.4441 - acc: 0.7083\n",
            "Epoch 52/200\n",
            "6/6 [==============================] - 0s 3ms/sample - loss: 0.4389 - acc: 0.7083\n",
            "Epoch 53/200\n",
            "6/6 [==============================] - 0s 3ms/sample - loss: 0.3867 - acc: 0.7917\n",
            "Epoch 54/200\n",
            "6/6 [==============================] - 0s 3ms/sample - loss: 0.4226 - acc: 0.7500\n",
            "Epoch 55/200\n",
            "6/6 [==============================] - 0s 3ms/sample - loss: 0.4832 - acc: 0.6667\n",
            "Epoch 56/200\n",
            "6/6 [==============================] - 0s 2ms/sample - loss: 0.3682 - acc: 0.8750\n",
            "Epoch 57/200\n",
            "6/6 [==============================] - 0s 3ms/sample - loss: 0.3588 - acc: 0.8750\n",
            "Epoch 58/200\n",
            "6/6 [==============================] - 0s 3ms/sample - loss: 0.4853 - acc: 0.7083\n",
            "Epoch 59/200\n",
            "6/6 [==============================] - 0s 3ms/sample - loss: 0.4294 - acc: 0.7500\n",
            "Epoch 60/200\n",
            "6/6 [==============================] - 0s 3ms/sample - loss: 0.4105 - acc: 0.7917\n",
            "Epoch 61/200\n",
            "6/6 [==============================] - 0s 4ms/sample - loss: 0.3669 - acc: 0.7500\n",
            "Epoch 62/200\n",
            "6/6 [==============================] - 0s 3ms/sample - loss: 0.3718 - acc: 0.8333\n",
            "Epoch 63/200\n",
            "6/6 [==============================] - 0s 2ms/sample - loss: 0.3785 - acc: 0.7500\n",
            "Epoch 64/200\n",
            "6/6 [==============================] - 0s 3ms/sample - loss: 0.3579 - acc: 0.7917\n",
            "Epoch 65/200\n",
            "6/6 [==============================] - 0s 3ms/sample - loss: 0.3891 - acc: 0.7917\n",
            "Epoch 66/200\n",
            "6/6 [==============================] - 0s 3ms/sample - loss: 0.3504 - acc: 0.8333\n",
            "Epoch 67/200\n",
            "6/6 [==============================] - 0s 2ms/sample - loss: 0.4132 - acc: 0.7917\n",
            "Epoch 68/200\n",
            "6/6 [==============================] - 0s 2ms/sample - loss: 0.3926 - acc: 0.7917\n",
            "Epoch 69/200\n",
            "6/6 [==============================] - 0s 3ms/sample - loss: 0.4293 - acc: 0.7500\n",
            "Epoch 70/200\n",
            "6/6 [==============================] - 0s 3ms/sample - loss: 0.4133 - acc: 0.8333\n",
            "Epoch 71/200\n",
            "6/6 [==============================] - 0s 4ms/sample - loss: 0.4212 - acc: 0.7917\n",
            "Epoch 72/200\n",
            "6/6 [==============================] - 0s 3ms/sample - loss: 0.4988 - acc: 0.7917\n",
            "Epoch 73/200\n",
            "6/6 [==============================] - 0s 2ms/sample - loss: 0.3106 - acc: 0.9167\n",
            "Epoch 74/200\n",
            "6/6 [==============================] - 0s 3ms/sample - loss: 0.3070 - acc: 0.9583\n",
            "Epoch 75/200\n",
            "6/6 [==============================] - 0s 3ms/sample - loss: 0.3512 - acc: 0.8750\n",
            "Epoch 76/200\n",
            "6/6 [==============================] - 0s 3ms/sample - loss: 0.3735 - acc: 0.8750\n",
            "Epoch 77/200\n",
            "6/6 [==============================] - 0s 3ms/sample - loss: 0.4230 - acc: 0.8333\n",
            "Epoch 78/200\n",
            "6/6 [==============================] - 0s 2ms/sample - loss: 0.5997 - acc: 0.6667\n",
            "Epoch 79/200\n",
            "6/6 [==============================] - 0s 2ms/sample - loss: 0.3068 - acc: 0.9167\n",
            "Epoch 80/200\n",
            "6/6 [==============================] - 0s 3ms/sample - loss: 0.3729 - acc: 0.7917\n",
            "Epoch 81/200\n",
            "6/6 [==============================] - 0s 3ms/sample - loss: 0.2833 - acc: 0.9167\n",
            "Epoch 82/200\n",
            "6/6 [==============================] - 0s 3ms/sample - loss: 0.3285 - acc: 0.8750\n",
            "Epoch 83/200\n",
            "6/6 [==============================] - 0s 3ms/sample - loss: 0.2795 - acc: 0.8750\n",
            "Epoch 84/200\n",
            "6/6 [==============================] - 0s 3ms/sample - loss: 0.2803 - acc: 0.9167\n",
            "Epoch 85/200\n",
            "6/6 [==============================] - 0s 3ms/sample - loss: 0.4948 - acc: 0.7083\n",
            "Epoch 86/200\n",
            "6/6 [==============================] - 0s 3ms/sample - loss: 0.2799 - acc: 0.8750\n",
            "Epoch 87/200\n",
            "6/6 [==============================] - 0s 3ms/sample - loss: 0.3741 - acc: 0.8333\n",
            "Epoch 88/200\n",
            "6/6 [==============================] - 0s 3ms/sample - loss: 0.2951 - acc: 0.9583\n",
            "Epoch 89/200\n",
            "6/6 [==============================] - 0s 3ms/sample - loss: 0.5000 - acc: 0.7500\n",
            "Epoch 90/200\n",
            "6/6 [==============================] - 0s 3ms/sample - loss: 0.3806 - acc: 0.7917\n",
            "Epoch 91/200\n",
            "6/6 [==============================] - 0s 3ms/sample - loss: 0.4119 - acc: 0.7917\n",
            "Epoch 92/200\n",
            "6/6 [==============================] - 0s 3ms/sample - loss: 0.3577 - acc: 0.8333\n",
            "Epoch 93/200\n",
            "6/6 [==============================] - 0s 3ms/sample - loss: 0.3825 - acc: 0.8333\n",
            "Epoch 94/200\n",
            "6/6 [==============================] - 0s 3ms/sample - loss: 0.4174 - acc: 0.7500\n",
            "Epoch 95/200\n",
            "6/6 [==============================] - 0s 2ms/sample - loss: 0.5020 - acc: 0.6667\n",
            "Epoch 96/200\n",
            "6/6 [==============================] - 0s 2ms/sample - loss: 0.2713 - acc: 0.8750\n",
            "Epoch 97/200\n",
            "6/6 [==============================] - 0s 3ms/sample - loss: 0.4646 - acc: 0.6667\n",
            "Epoch 98/200\n",
            "6/6 [==============================] - 0s 3ms/sample - loss: 0.2613 - acc: 0.9167\n",
            "Epoch 99/200\n",
            "6/6 [==============================] - 0s 4ms/sample - loss: 0.2785 - acc: 0.8750\n",
            "Epoch 100/200\n",
            "6/6 [==============================] - 0s 2ms/sample - loss: 0.3665 - acc: 0.8333\n",
            "Epoch 101/200\n",
            "6/6 [==============================] - 0s 3ms/sample - loss: 0.3020 - acc: 0.7917\n",
            "Epoch 102/200\n",
            "6/6 [==============================] - 0s 2ms/sample - loss: 0.2903 - acc: 0.8750\n",
            "Epoch 103/200\n",
            "6/6 [==============================] - 0s 2ms/sample - loss: 0.4141 - acc: 0.8333\n",
            "Epoch 104/200\n",
            "6/6 [==============================] - 0s 3ms/sample - loss: 0.2392 - acc: 0.9583\n",
            "Epoch 105/200\n",
            "6/6 [==============================] - 0s 3ms/sample - loss: 0.4687 - acc: 0.7500\n",
            "Epoch 106/200\n",
            "6/6 [==============================] - 0s 2ms/sample - loss: 0.4458 - acc: 0.7917\n",
            "Epoch 107/200\n",
            "6/6 [==============================] - 0s 3ms/sample - loss: 0.4689 - acc: 0.7500\n",
            "Epoch 108/200\n",
            "6/6 [==============================] - 0s 4ms/sample - loss: 0.2731 - acc: 0.8750\n",
            "Epoch 109/200\n",
            "6/6 [==============================] - 0s 2ms/sample - loss: 0.3379 - acc: 0.7917\n",
            "Epoch 110/200\n",
            "6/6 [==============================] - 0s 3ms/sample - loss: 0.2793 - acc: 0.8750\n",
            "Epoch 111/200\n",
            "6/6 [==============================] - 0s 3ms/sample - loss: 0.2466 - acc: 0.9583\n",
            "Epoch 112/200\n",
            "6/6 [==============================] - 0s 3ms/sample - loss: 0.3525 - acc: 0.8333\n",
            "Epoch 113/200\n",
            "6/6 [==============================] - 0s 3ms/sample - loss: 0.2699 - acc: 0.9167\n",
            "Epoch 114/200\n",
            "6/6 [==============================] - 0s 2ms/sample - loss: 0.3627 - acc: 0.8750\n",
            "Epoch 115/200\n",
            "6/6 [==============================] - 0s 3ms/sample - loss: 0.2554 - acc: 0.9167\n",
            "Epoch 116/200\n",
            "6/6 [==============================] - 0s 2ms/sample - loss: 0.2557 - acc: 0.9167\n",
            "Epoch 117/200\n",
            "6/6 [==============================] - 0s 3ms/sample - loss: 0.2783 - acc: 0.9167\n",
            "Epoch 118/200\n",
            "6/6 [==============================] - 0s 3ms/sample - loss: 0.3298 - acc: 0.8750\n",
            "Epoch 119/200\n",
            "6/6 [==============================] - 0s 3ms/sample - loss: 0.2585 - acc: 0.9167\n",
            "Epoch 120/200\n",
            "6/6 [==============================] - 0s 2ms/sample - loss: 0.2247 - acc: 0.9583\n",
            "Epoch 121/200\n",
            "6/6 [==============================] - 0s 2ms/sample - loss: 0.2232 - acc: 0.9583\n",
            "Epoch 122/200\n",
            "6/6 [==============================] - 0s 2ms/sample - loss: 0.5405 - acc: 0.7500\n",
            "Epoch 123/200\n",
            "6/6 [==============================] - 0s 3ms/sample - loss: 0.4083 - acc: 0.8333\n",
            "Epoch 124/200\n",
            "6/6 [==============================] - 0s 3ms/sample - loss: 0.1998 - acc: 0.9167\n",
            "Epoch 125/200\n",
            "6/6 [==============================] - 0s 3ms/sample - loss: 0.2027 - acc: 0.9583\n",
            "Epoch 126/200\n",
            "6/6 [==============================] - 0s 3ms/sample - loss: 0.2242 - acc: 0.9167\n",
            "Epoch 127/200\n",
            "6/6 [==============================] - 0s 3ms/sample - loss: 0.2190 - acc: 0.9583\n",
            "Epoch 128/200\n",
            "6/6 [==============================] - 0s 3ms/sample - loss: 0.1983 - acc: 0.9583\n",
            "Epoch 129/200\n",
            "6/6 [==============================] - 0s 3ms/sample - loss: 0.2019 - acc: 0.9583\n",
            "Epoch 130/200\n",
            "6/6 [==============================] - 0s 3ms/sample - loss: 0.2794 - acc: 0.9167\n",
            "Epoch 131/200\n",
            "6/6 [==============================] - 0s 3ms/sample - loss: 0.3712 - acc: 0.8750\n",
            "Epoch 132/200\n",
            "6/6 [==============================] - 0s 3ms/sample - loss: 0.4730 - acc: 0.7917\n",
            "Epoch 133/200\n",
            "6/6 [==============================] - 0s 3ms/sample - loss: 0.3731 - acc: 0.8333\n",
            "Epoch 134/200\n",
            "6/6 [==============================] - 0s 3ms/sample - loss: 0.3257 - acc: 0.8750\n",
            "Epoch 135/200\n",
            "6/6 [==============================] - 0s 3ms/sample - loss: 0.4879 - acc: 0.7917\n",
            "Epoch 136/200\n",
            "6/6 [==============================] - 0s 3ms/sample - loss: 0.5080 - acc: 0.7083\n",
            "Epoch 137/200\n",
            "6/6 [==============================] - 0s 3ms/sample - loss: 0.2422 - acc: 0.9167\n",
            "Epoch 138/200\n",
            "6/6 [==============================] - 0s 3ms/sample - loss: 0.2181 - acc: 0.8750\n",
            "Epoch 139/200\n",
            "6/6 [==============================] - 0s 3ms/sample - loss: 0.3083 - acc: 0.8750\n",
            "Epoch 140/200\n",
            "6/6 [==============================] - 0s 3ms/sample - loss: 0.2913 - acc: 0.8750\n",
            "Epoch 141/200\n",
            "6/6 [==============================] - 0s 3ms/sample - loss: 0.2994 - acc: 0.8750\n",
            "Epoch 142/200\n",
            "6/6 [==============================] - 0s 3ms/sample - loss: 0.3717 - acc: 0.8333\n",
            "Epoch 143/200\n",
            "6/6 [==============================] - 0s 3ms/sample - loss: 0.2979 - acc: 0.7917\n",
            "Epoch 144/200\n",
            "6/6 [==============================] - 0s 3ms/sample - loss: 0.3313 - acc: 0.8333\n",
            "Epoch 145/200\n",
            "6/6 [==============================] - 0s 3ms/sample - loss: 0.1902 - acc: 0.9167\n",
            "Epoch 146/200\n",
            "6/6 [==============================] - 0s 3ms/sample - loss: 0.2342 - acc: 0.9167\n",
            "Epoch 147/200\n",
            "6/6 [==============================] - 0s 2ms/sample - loss: 0.1881 - acc: 0.9583\n",
            "Epoch 148/200\n",
            "6/6 [==============================] - 0s 3ms/sample - loss: 0.2904 - acc: 0.8750\n",
            "Epoch 149/200\n",
            "6/6 [==============================] - 0s 3ms/sample - loss: 0.4641 - acc: 0.7500\n",
            "Epoch 150/200\n",
            "6/6 [==============================] - 0s 2ms/sample - loss: 0.1904 - acc: 0.9583\n",
            "Epoch 151/200\n",
            "6/6 [==============================] - 0s 3ms/sample - loss: 0.3324 - acc: 0.8333\n",
            "Epoch 152/200\n",
            "6/6 [==============================] - 0s 3ms/sample - loss: 0.3324 - acc: 0.8333\n",
            "Epoch 153/200\n",
            "6/6 [==============================] - 0s 3ms/sample - loss: 0.2854 - acc: 0.8750\n",
            "Epoch 154/200\n",
            "6/6 [==============================] - 0s 3ms/sample - loss: 0.1718 - acc: 0.9583\n",
            "Epoch 155/200\n",
            "6/6 [==============================] - 0s 2ms/sample - loss: 0.2362 - acc: 0.8750\n",
            "Epoch 156/200\n",
            "6/6 [==============================] - 0s 2ms/sample - loss: 0.2127 - acc: 0.8750\n",
            "Epoch 157/200\n",
            "6/6 [==============================] - 0s 3ms/sample - loss: 0.1791 - acc: 0.9167\n",
            "Epoch 158/200\n",
            "6/6 [==============================] - 0s 3ms/sample - loss: 0.1454 - acc: 0.9583\n",
            "Epoch 159/200\n",
            "6/6 [==============================] - 0s 3ms/sample - loss: 0.2640 - acc: 0.8750\n",
            "Epoch 160/200\n",
            "6/6 [==============================] - 0s 3ms/sample - loss: 0.1541 - acc: 0.9583\n",
            "Epoch 161/200\n",
            "6/6 [==============================] - 0s 3ms/sample - loss: 0.2861 - acc: 0.8750\n",
            "Epoch 162/200\n",
            "6/6 [==============================] - 0s 4ms/sample - loss: 0.1849 - acc: 0.9583\n",
            "Epoch 163/200\n",
            "6/6 [==============================] - 0s 2ms/sample - loss: 0.1466 - acc: 0.9583\n",
            "Epoch 164/200\n",
            "6/6 [==============================] - 0s 3ms/sample - loss: 0.1982 - acc: 0.9167\n",
            "Epoch 165/200\n",
            "6/6 [==============================] - 0s 3ms/sample - loss: 0.1560 - acc: 0.9583\n",
            "Epoch 166/200\n",
            "6/6 [==============================] - 0s 3ms/sample - loss: 0.2580 - acc: 0.8750\n",
            "Epoch 167/200\n",
            "6/6 [==============================] - 0s 3ms/sample - loss: 0.3977 - acc: 0.8333\n",
            "Epoch 168/200\n",
            "6/6 [==============================] - 0s 3ms/sample - loss: 0.1863 - acc: 0.9583\n",
            "Epoch 169/200\n",
            "6/6 [==============================] - 0s 3ms/sample - loss: 0.1366 - acc: 0.9583\n",
            "Epoch 170/200\n",
            "6/6 [==============================] - 0s 3ms/sample - loss: 0.1690 - acc: 0.9583\n",
            "Epoch 171/200\n",
            "6/6 [==============================] - 0s 2ms/sample - loss: 0.1491 - acc: 0.9167\n",
            "Epoch 172/200\n",
            "6/6 [==============================] - 0s 2ms/sample - loss: 0.3533 - acc: 0.8750\n",
            "Epoch 173/200\n",
            "6/6 [==============================] - 0s 3ms/sample - loss: 0.2216 - acc: 0.9167\n",
            "Epoch 174/200\n",
            "6/6 [==============================] - 0s 2ms/sample - loss: 0.2058 - acc: 0.9167\n",
            "Epoch 175/200\n",
            "6/6 [==============================] - 0s 2ms/sample - loss: 0.2616 - acc: 0.9167\n",
            "Epoch 176/200\n",
            "6/6 [==============================] - 0s 3ms/sample - loss: 0.1559 - acc: 1.0000\n",
            "Epoch 177/200\n",
            "6/6 [==============================] - 0s 3ms/sample - loss: 0.1008 - acc: 1.0000\n",
            "Epoch 178/200\n",
            "6/6 [==============================] - 0s 3ms/sample - loss: 0.1127 - acc: 1.0000\n",
            "Epoch 179/200\n",
            "6/6 [==============================] - 0s 4ms/sample - loss: 0.1278 - acc: 1.0000\n",
            "Epoch 180/200\n",
            "6/6 [==============================] - 0s 3ms/sample - loss: 0.1456 - acc: 1.0000\n",
            "Epoch 181/200\n",
            "6/6 [==============================] - 0s 4ms/sample - loss: 0.4832 - acc: 0.7500\n",
            "Epoch 182/200\n",
            "6/6 [==============================] - 0s 4ms/sample - loss: 0.3530 - acc: 0.8333\n",
            "Epoch 183/200\n",
            "6/6 [==============================] - 0s 3ms/sample - loss: 0.1218 - acc: 1.0000\n",
            "Epoch 184/200\n",
            "6/6 [==============================] - 0s 3ms/sample - loss: 0.4478 - acc: 0.8333\n",
            "Epoch 185/200\n",
            "6/6 [==============================] - 0s 3ms/sample - loss: 0.3184 - acc: 0.9167\n",
            "Epoch 186/200\n",
            "6/6 [==============================] - 0s 3ms/sample - loss: 0.1363 - acc: 0.9583\n",
            "Epoch 187/200\n",
            "6/6 [==============================] - 0s 3ms/sample - loss: 0.1169 - acc: 1.0000\n",
            "Epoch 188/200\n",
            "6/6 [==============================] - 0s 3ms/sample - loss: 0.2072 - acc: 0.9167\n",
            "Epoch 189/200\n",
            "6/6 [==============================] - 0s 3ms/sample - loss: 0.2731 - acc: 0.9167\n",
            "Epoch 190/200\n",
            "6/6 [==============================] - 0s 2ms/sample - loss: 0.1381 - acc: 1.0000\n",
            "Epoch 191/200\n",
            "6/6 [==============================] - 0s 2ms/sample - loss: 0.1023 - acc: 1.0000\n",
            "Epoch 192/200\n",
            "6/6 [==============================] - 0s 3ms/sample - loss: 0.3986 - acc: 0.8333\n",
            "Epoch 193/200\n",
            "6/6 [==============================] - 0s 3ms/sample - loss: 0.2327 - acc: 0.9167\n",
            "Epoch 194/200\n",
            "6/6 [==============================] - 0s 3ms/sample - loss: 0.1220 - acc: 1.0000\n",
            "Epoch 195/200\n",
            "6/6 [==============================] - 0s 3ms/sample - loss: 0.2455 - acc: 0.9167\n",
            "Epoch 196/200\n",
            "6/6 [==============================] - 0s 3ms/sample - loss: 0.4620 - acc: 0.7500\n",
            "Epoch 197/200\n",
            "6/6 [==============================] - 0s 3ms/sample - loss: 0.2774 - acc: 0.9167\n",
            "Epoch 198/200\n",
            "6/6 [==============================] - 0s 3ms/sample - loss: 0.2570 - acc: 0.9167\n",
            "Epoch 199/200\n",
            "6/6 [==============================] - 0s 3ms/sample - loss: 0.2377 - acc: 0.8750\n",
            "Epoch 200/200\n",
            "6/6 [==============================] - 0s 3ms/sample - loss: 0.3531 - acc: 0.7917\n",
            "Predicted classes: {} [1 2 3 2 3 1]\n",
            "Expected classes: {} [1 2 3 2 3 1]\n"
          ],
          "name": "stdout"
        }
      ]
    },
    {
      "cell_type": "code",
      "metadata": {
        "id": "VFmzD7D8GH_7",
        "colab_type": "code",
        "outputId": "494c69fd-fdc7-4c4b-b026-858602908ef0",
        "colab": {}
      },
      "source": [
        "def runit(model, inp):\n",
        "    inp = np.array(inp,dtype=np.float32)\n",
        "    pred = model.predict(inp)\n",
        "    return np.argmax(pred[0])\n",
        "\n",
        "print( runit( model, [[[0],[0],[0],[0],[0],[1]]] ))\n"
      ],
      "execution_count": 0,
      "outputs": [
        {
          "output_type": "stream",
          "text": [
            "1\n"
          ],
          "name": "stdout"
        }
      ]
    },
    {
      "cell_type": "markdown",
      "metadata": {
        "id": "BaRvOx9QGH_9",
        "colab_type": "text"
      },
      "source": [
        "# Sun Spots Example\n",
        "\n",
        "An example of RNN regression to predict sunspots.  The data files needed for this example can be found at the following location.\n",
        "\n",
        "* [Sunspot Data Files](http://www.sidc.be/silso/datafiles#total)\n",
        "* [Download Daily Sunspots](http://www.sidc.be/silso/INFO/sndtotcsv.php) - 1/1/1818 to now.\n",
        "\n",
        "The following code is used to load the sunspot file:\n"
      ]
    },
    {
      "cell_type": "code",
      "metadata": {
        "id": "Wn_3jIxTGH_-",
        "colab_type": "code",
        "outputId": "9fc48f4d-9eb5-4bc1-b668-ac00339047eb",
        "colab": {}
      },
      "source": [
        "import pandas as pd\n",
        "import os\n",
        "\n",
        "# Replacce the following path with your own file. It can be downloaded from:\n",
        "# http://www.sidc.be/silso/INFO/sndtotcsv.php\n",
        "path = \"./data/\"\n",
        "    \n",
        "filename = os.path.join(path,\"SN_d_tot_V2.0.csv\")    \n",
        "names = ['year', 'month', 'day', 'dec_year', 'sn_value' , 'sn_error', 'obs_num']\n",
        "df = pd.read_csv(filename,sep=';',header=None,names=names,na_values=['-1'], index_col=False)\n",
        "\n",
        "print(\"Starting file:\")\n",
        "print(df[0:10])\n",
        "\n",
        "print(\"Ending file:\")\n",
        "print(df[-10:])"
      ],
      "execution_count": 0,
      "outputs": [
        {
          "output_type": "stream",
          "text": [
            "Starting file:\n",
            "   year  month  day  dec_year  sn_value  sn_error  obs_num\n",
            "0  1818      1    1  1818.001        -1       NaN        0\n",
            "1  1818      1    2  1818.004        -1       NaN        0\n",
            "2  1818      1    3  1818.007        -1       NaN        0\n",
            "3  1818      1    4  1818.010        -1       NaN        0\n",
            "4  1818      1    5  1818.012        -1       NaN        0\n",
            "5  1818      1    6  1818.015        -1       NaN        0\n",
            "6  1818      1    7  1818.018        -1       NaN        0\n",
            "7  1818      1    8  1818.021        65      10.2        1\n",
            "8  1818      1    9  1818.023        -1       NaN        0\n",
            "9  1818      1   10  1818.026        -1       NaN        0\n",
            "Ending file:\n",
            "       year  month  day  dec_year  sn_value  sn_error  obs_num\n",
            "73373  2018     11   21  2018.889         0       0.0       31\n",
            "73374  2018     11   22  2018.892         0       0.0       15\n",
            "73375  2018     11   23  2018.895         0       0.0       22\n",
            "73376  2018     11   24  2018.897        15       2.7        8\n",
            "73377  2018     11   25  2018.900        14       0.7        7\n",
            "73378  2018     11   26  2018.903        10       1.2        5\n",
            "73379  2018     11   27  2018.905         0       0.0       21\n",
            "73380  2018     11   28  2018.908         0       0.0       23\n",
            "73381  2018     11   29  2018.911         0       0.0       22\n",
            "73382  2018     11   30  2018.914         0       0.0       26\n"
          ],
          "name": "stdout"
        }
      ]
    },
    {
      "cell_type": "markdown",
      "metadata": {
        "id": "MdD4N81JGIAA",
        "colab_type": "text"
      },
      "source": [
        "As you can see, there is quite a bit of missing data near the end of the file.  We would like to find the starting index where the missing data no longer occurs.  This is somewhat sloppy, it would be better to find a use for the data between missing values.  However, the point of this example is show how to use LSTM with a somewhat simple time-series."
      ]
    },
    {
      "cell_type": "code",
      "metadata": {
        "id": "4HpK-WPaGIAB",
        "colab_type": "code",
        "outputId": "bc458094-c2bf-4237-b5e5-3359d096bc9e",
        "colab": {}
      },
      "source": [
        "start_id = max(df[df['obs_num'] == 0].index.tolist())+1  # Find the last zero and move one beyond\n",
        "print(start_id)\n",
        "df = df[start_id:] # Trim the rows that have missing observations"
      ],
      "execution_count": 0,
      "outputs": [
        {
          "output_type": "stream",
          "text": [
            "11314\n"
          ],
          "name": "stdout"
        }
      ]
    },
    {
      "cell_type": "code",
      "metadata": {
        "id": "6iiw_OLoGIAD",
        "colab_type": "code",
        "outputId": "b48ccc75-33fb-4325-e3da-0ea1f50fada7",
        "colab": {}
      },
      "source": [
        "df_train = df[df['year']<2000]\n",
        "df_test = df[df['year']>=2000]\n",
        "\n",
        "spots_train = df_train['sn_value'].tolist()\n",
        "spots_test = df_test['sn_value'].tolist()\n",
        "\n",
        "print(\"Training set has {} observations.\".format(len(spots_train)))\n",
        "print(\"Test set has {} observations.\".format(len(spots_test)))"
      ],
      "execution_count": 0,
      "outputs": [
        {
          "output_type": "stream",
          "text": [
            "Training set has 55160 observations.\n",
            "Test set has 6909 observations.\n"
          ],
          "name": "stdout"
        }
      ]
    },
    {
      "cell_type": "code",
      "metadata": {
        "id": "Xpn4riAZGIAG",
        "colab_type": "code",
        "outputId": "10904a29-df71-405a-e96e-074d11ea65cf",
        "colab": {}
      },
      "source": [
        "import numpy as np\n",
        "\n",
        "def to_sequences(seq_size, obs):\n",
        "    x = []\n",
        "    y = []\n",
        "\n",
        "    for i in range(len(obs)-SEQUENCE_SIZE-1):\n",
        "        #print(i)\n",
        "        window = obs[i:(i+SEQUENCE_SIZE)]\n",
        "        after_window = obs[i+SEQUENCE_SIZE]\n",
        "        window = [[x] for x in window]\n",
        "        #print(\"{} - {}\".format(window,after_window))\n",
        "        x.append(window)\n",
        "        y.append(after_window)\n",
        "        \n",
        "    return np.array(x),np.array(y)\n",
        "    \n",
        "    \n",
        "SEQUENCE_SIZE = 10\n",
        "x_train,y_train = to_sequences(SEQUENCE_SIZE,spots_train)\n",
        "x_test,y_test = to_sequences(SEQUENCE_SIZE,spots_test)\n",
        "\n",
        "print(\"Shape of training set: {}\".format(x_train.shape))\n",
        "print(\"Shape of test set: {}\".format(x_test.shape))"
      ],
      "execution_count": 0,
      "outputs": [
        {
          "output_type": "stream",
          "text": [
            "Shape of training set: (55149, 10, 1)\n",
            "Shape of test set: (6898, 10, 1)\n"
          ],
          "name": "stdout"
        }
      ]
    },
    {
      "cell_type": "code",
      "metadata": {
        "id": "vM_xzCooGIAI",
        "colab_type": "code",
        "outputId": "038d6f3b-f868-4db4-9e63-2a8150c68082",
        "colab": {}
      },
      "source": [
        "x_train"
      ],
      "execution_count": 0,
      "outputs": [
        {
          "output_type": "execute_result",
          "data": {
            "text/plain": [
              "array([[[353],\n",
              "        [240],\n",
              "        [275],\n",
              "        ...,\n",
              "        [340],\n",
              "        [238],\n",
              "        [287]],\n",
              "\n",
              "       [[240],\n",
              "        [275],\n",
              "        [352],\n",
              "        ...,\n",
              "        [238],\n",
              "        [287],\n",
              "        [294]],\n",
              "\n",
              "       [[275],\n",
              "        [352],\n",
              "        [268],\n",
              "        ...,\n",
              "        [287],\n",
              "        [294],\n",
              "        [342]],\n",
              "\n",
              "       ...,\n",
              "\n",
              "       [[137],\n",
              "        [138],\n",
              "        [141],\n",
              "        ...,\n",
              "        [128],\n",
              "        [116],\n",
              "        [ 95]],\n",
              "\n",
              "       [[138],\n",
              "        [141],\n",
              "        [128],\n",
              "        ...,\n",
              "        [116],\n",
              "        [ 95],\n",
              "        [ 85]],\n",
              "\n",
              "       [[141],\n",
              "        [128],\n",
              "        [130],\n",
              "        ...,\n",
              "        [ 95],\n",
              "        [ 85],\n",
              "        [103]]])"
            ]
          },
          "metadata": {
            "tags": []
          },
          "execution_count": 15
        }
      ]
    },
    {
      "cell_type": "code",
      "metadata": {
        "id": "ypRg3-zxGIAL",
        "colab_type": "code",
        "outputId": "522673d7-f2e0-4840-d017-b0405d9892e9",
        "colab": {}
      },
      "source": [
        "from tensorflow.keras.preprocessing import sequence\n",
        "from tensorflow.keras.models import Sequential\n",
        "from tensorflow.keras.layers import Dense, Embedding\n",
        "from tensorflow.keras.layers import LSTM\n",
        "from tensorflow.keras.datasets import imdb\n",
        "from tensorflow.keras.callbacks import EarlyStopping\n",
        "import numpy as np\n",
        "\n",
        "print('Build model...')\n",
        "model = Sequential()\n",
        "model.add(LSTM(64, dropout=0.0, recurrent_dropout=0.0,input_shape=(None, 1)))\n",
        "model.add(Dense(32))\n",
        "model.add(Dense(1))\n",
        "model.compile(loss='mean_squared_error', optimizer='adam')\n",
        "monitor = EarlyStopping(monitor='val_loss', min_delta=1e-3, patience=5, verbose=1, mode='auto', restore_best_weights=True)\n",
        "print('Train...')\n",
        "\n",
        "model.fit(x_train,y_train,validation_data=(x_test,y_test),callbacks=[monitor],verbose=2,epochs=1000)"
      ],
      "execution_count": 0,
      "outputs": [
        {
          "output_type": "stream",
          "text": [
            "Build model...\n",
            "Train...\n",
            "Train on 55149 samples, validate on 6898 samples\n",
            "Epoch 1/1000\n",
            "55149/55149 - 8s - loss: 1272.5586 - val_loss: 198.2288\n",
            "Epoch 2/1000\n",
            "55149/55149 - 8s - loss: 520.7088 - val_loss: 203.7136\n",
            "Epoch 3/1000\n",
            "55149/55149 - 8s - loss: 507.1327 - val_loss: 201.5465\n",
            "Epoch 4/1000\n",
            "55149/55149 - 8s - loss: 505.0134 - val_loss: 199.4284\n",
            "Epoch 5/1000\n",
            "55149/55149 - 8s - loss: 501.2060 - val_loss: 204.2697\n",
            "Epoch 6/1000\n",
            "55149/55149 - 8s - loss: 501.4547 - val_loss: 197.2070\n",
            "Epoch 7/1000\n",
            "55149/55149 - 8s - loss: 500.0317 - val_loss: 202.6481\n",
            "Epoch 8/1000\n",
            "55149/55149 - 8s - loss: 500.3575 - val_loss: 210.6758\n",
            "Epoch 9/1000\n",
            "55149/55149 - 8s - loss: 495.9609 - val_loss: 197.8084\n",
            "Epoch 10/1000\n",
            "55149/55149 - 8s - loss: 494.8162 - val_loss: 201.6251\n",
            "Epoch 11/1000\n",
            "55149/55149 - 8s - loss: 506.5253 - val_loss: 199.7883\n",
            "Epoch 00011: early stopping\n"
          ],
          "name": "stdout"
        },
        {
          "output_type": "execute_result",
          "data": {
            "text/plain": [
              "<tensorflow.python.keras.callbacks.History at 0xb2db34e80>"
            ]
          },
          "metadata": {
            "tags": []
          },
          "execution_count": 8
        }
      ]
    },
    {
      "cell_type": "code",
      "metadata": {
        "id": "eOo_6w4tGIAN",
        "colab_type": "code",
        "outputId": "983519ef-89c6-41e2-931c-2ca9f08fba01",
        "colab": {}
      },
      "source": [
        "from sklearn import metrics\n",
        "\n",
        "pred = model.predict(x_test)\n",
        "score = np.sqrt(metrics.mean_squared_error(pred,y_test))\n",
        "print(\"Score (RMSE): {}\".format(score))"
      ],
      "execution_count": 0,
      "outputs": [
        {
          "output_type": "stream",
          "text": [
            "Score (RMSE): 14.134649943631057\n"
          ],
          "name": "stdout"
        }
      ]
    }
  ]
}
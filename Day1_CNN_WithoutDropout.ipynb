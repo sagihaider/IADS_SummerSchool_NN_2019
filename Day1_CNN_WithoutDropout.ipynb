{
  "nbformat": 4,
  "nbformat_minor": 0,
  "metadata": {
    "colab": {
      "name": "Day1_CNN_WithoutDropout.ipynb",
      "version": "0.3.2",
      "provenance": [],
      "collapsed_sections": [],
      "include_colab_link": true
    },
    "kernelspec": {
      "name": "python3",
      "display_name": "Python 3"
    },
    "accelerator": "GPU"
  },
  "cells": [
    {
      "cell_type": "markdown",
      "metadata": {
        "id": "view-in-github",
        "colab_type": "text"
      },
      "source": [
        "<a href=\"https://colab.research.google.com/github/sagihaider/IADS_SummerSchool_NN_2019/blob/master/Day1_CNN_WithoutDropout.ipynb\" target=\"_parent\"><img src=\"https://colab.research.google.com/assets/colab-badge.svg\" alt=\"Open In Colab\"/></a>"
      ]
    },
    {
      "cell_type": "code",
      "metadata": {
        "id": "jBOCwMH0rB7c",
        "colab_type": "code",
        "colab": {
          "base_uri": "https://localhost:8080/",
          "height": 34
        },
        "outputId": "9f29aead-fa42-44b6-b922-4e7ab0572479"
      },
      "source": [
        "from google.colab import drive\n",
        "drive.mount('/content/drive')"
      ],
      "execution_count": 24,
      "outputs": [
        {
          "output_type": "stream",
          "text": [
            "Drive already mounted at /content/drive; to attempt to forcibly remount, call drive.mount(\"/content/drive\", force_remount=True).\n"
          ],
          "name": "stdout"
        }
      ]
    },
    {
      "cell_type": "code",
      "metadata": {
        "id": "2HKT90nkuoMQ",
        "colab_type": "code",
        "colab": {
          "base_uri": "https://localhost:8080/",
          "height": 34
        },
        "outputId": "8bacf2aa-7aa6-471c-97e5-958d734b1a3d"
      },
      "source": [
        "from zipfile import ZipFile\n",
        "file_name = \"/content/drive/My Drive/DogCatData.zip\"\n",
        "\n",
        "with ZipFile(file_name, 'r') as zip:\n",
        "  zip.extractall()\n",
        "  print('done')"
      ],
      "execution_count": 7,
      "outputs": [
        {
          "output_type": "stream",
          "text": [
            "done\n"
          ],
          "name": "stdout"
        }
      ]
    },
    {
      "cell_type": "code",
      "metadata": {
        "id": "tWhovx7_v05L",
        "colab_type": "code",
        "colab": {}
      },
      "source": [
        "import os, shutil\n",
        "original_dataset_dir = 'DogCatData'"
      ],
      "execution_count": 0,
      "outputs": []
    },
    {
      "cell_type": "code",
      "metadata": {
        "id": "ORKNhKgCw4FO",
        "colab_type": "code",
        "colab": {}
      },
      "source": [
        "base_dir = 'cats_and_dogs_small'\n",
        "os.mkdir(base_dir)"
      ],
      "execution_count": 0,
      "outputs": []
    },
    {
      "cell_type": "code",
      "metadata": {
        "id": "00zZ6dy5w4Qu",
        "colab_type": "code",
        "colab": {}
      },
      "source": [
        "train_dir = os.path.join(base_dir, 'train')\n",
        "os.mkdir(train_dir)\n",
        "\n",
        "validation_dir = os.path.join(base_dir, 'validation')\n",
        "os.mkdir(validation_dir)\n",
        "\n",
        "test_dir = os.path.join(base_dir, 'test')\n",
        "os.mkdir(test_dir)\n",
        "\n",
        "train_cats_dir = os.path.join(train_dir, 'cats')\n",
        "os.mkdir(train_cats_dir)\n",
        "\n",
        "train_dogs_dir = os.path.join(train_dir, 'dogs')\n",
        "os.mkdir(train_dogs_dir)\n",
        "\n",
        "validation_cats_dir = os.path.join(validation_dir, 'cats')\n",
        "os.mkdir(validation_cats_dir)\n",
        "\n",
        "validation_dogs_dir = os.path.join(validation_dir, 'dogs')\n",
        "os.mkdir(validation_dogs_dir)\n",
        "\n",
        "test_cats_dir = os.path.join(test_dir, 'cats')\n",
        "os.mkdir(test_cats_dir)\n",
        "\n",
        "test_dogs_dir = os.path.join(test_dir, 'dogs')\n",
        "os.mkdir(test_dogs_dir)"
      ],
      "execution_count": 0,
      "outputs": []
    },
    {
      "cell_type": "code",
      "metadata": {
        "id": "bLW85ROWxu7A",
        "colab_type": "code",
        "colab": {}
      },
      "source": [
        "fnames = ['cat.{}.jpg'.format(i) for i in range(1000)]\n",
        "for fname in fnames:\n",
        "    src = os.path.join(original_dataset_dir, fname)\n",
        "    dst = os.path.join(train_cats_dir, fname)\n",
        "    #print(src,dst)\n",
        "    shutil.copyfile(src, dst)\n",
        "    \n",
        "fnames = ['cat.{}.jpg'.format(i) for i in range(1000, 1500)]\n",
        "for fname in fnames:\n",
        "    src = os.path.join(original_dataset_dir, fname)\n",
        "    dst = os.path.join(validation_cats_dir, fname)\n",
        "    shutil.copyfile(src, dst)\n",
        "\n",
        "fnames = ['cat.{}.jpg'.format(i) for i in range(1500, 2000)]\n",
        "for fname in fnames:\n",
        "    src = os.path.join(original_dataset_dir, fname)\n",
        "    dst = os.path.join(test_cats_dir, fname)\n",
        "    shutil.copyfile(src, dst)\n",
        "    \n",
        "fnames = ['dog.{}.jpg'.format(i) for i in range(1000)]\n",
        "for fname in fnames:\n",
        "    src = os.path.join(original_dataset_dir, fname)\n",
        "    dst = os.path.join(train_dogs_dir, fname)\n",
        "    shutil.copyfile(src, dst)\n",
        "\n",
        "fnames = ['dog.{}.jpg'.format(i) for i in range(1000, 1500)]\n",
        "for fname in fnames:\n",
        "    src = os.path.join(original_dataset_dir, fname)\n",
        "    dst = os.path.join(validation_dogs_dir, fname)\n",
        "    shutil.copyfile(src, dst)\n",
        "\n",
        "fnames = ['dog.{}.jpg'.format(i) for i in range(1500, 2000)]\n",
        "for fname in fnames:\n",
        "    src = os.path.join(original_dataset_dir, fname)\n",
        "    dst = os.path.join(test_dogs_dir, fname)\n",
        "    shutil.copyfile(src, dst)"
      ],
      "execution_count": 0,
      "outputs": []
    },
    {
      "cell_type": "code",
      "metadata": {
        "id": "pMvhR-5Axza6",
        "colab_type": "code",
        "colab": {
          "base_uri": "https://localhost:8080/",
          "height": 119
        },
        "outputId": "d0ec37cb-d377-43bb-bb6d-fa2c306684ae"
      },
      "source": [
        "print('total training cat images:', len(os.listdir(train_cats_dir)))\n",
        "print('total training dog images:', len(os.listdir(train_dogs_dir)))\n",
        "print('total validation cat images:', len(os.listdir(validation_cats_dir)))\n",
        "\n",
        "print('total validation dog images:', len(os.listdir(validation_dogs_dir)))\n",
        "print('total test cat images:', len(os.listdir(test_cats_dir)))\n",
        "print('total test dog images:', len(os.listdir(test_dogs_dir)))"
      ],
      "execution_count": 13,
      "outputs": [
        {
          "output_type": "stream",
          "text": [
            "total training cat images: 1000\n",
            "total training dog images: 1000\n",
            "total validation cat images: 500\n",
            "total validation dog images: 500\n",
            "total test cat images: 500\n",
            "total test dog images: 500\n"
          ],
          "name": "stdout"
        }
      ]
    },
    {
      "cell_type": "code",
      "metadata": {
        "id": "FAcWNDitx1zY",
        "colab_type": "code",
        "colab": {
          "base_uri": "https://localhost:8080/",
          "height": 700
        },
        "outputId": "c467d742-228c-436b-acb4-dab840afe2ae"
      },
      "source": [
        "from keras import layers\n",
        "from keras import models\n",
        "\n",
        "model = models.Sequential()\n",
        "model.add(layers.Conv2D(32, (3, 3), activation='relu', input_shape=(150, 150, 3)))\n",
        "model.add(layers.MaxPooling2D((2, 2)))\n",
        "model.add(layers.Conv2D(64, (3, 3), activation='relu'))\n",
        "model.add(layers.MaxPooling2D((2, 2)))\n",
        "model.add(layers.Conv2D(128, (3, 3), activation='relu'))\n",
        "model.add(layers.MaxPooling2D((2, 2)))\n",
        "model.add(layers.Conv2D(128, (3, 3), activation='relu'))\n",
        "model.add(layers.MaxPooling2D((2, 2)))\n",
        "model.add(layers.Flatten())\n",
        "model.add(layers.Dense(512, activation='relu'))\n",
        "model.add(layers.Dense(1, activation='sigmoid'))\n",
        "model.summary()"
      ],
      "execution_count": 14,
      "outputs": [
        {
          "output_type": "stream",
          "text": [
            "Using TensorFlow backend.\n",
            "WARNING: Logging before flag parsing goes to stderr.\n",
            "W0724 11:39:27.593039 139711954593664 deprecation_wrapper.py:119] From /usr/local/lib/python3.6/dist-packages/keras/backend/tensorflow_backend.py:74: The name tf.get_default_graph is deprecated. Please use tf.compat.v1.get_default_graph instead.\n",
            "\n",
            "W0724 11:39:27.635264 139711954593664 deprecation_wrapper.py:119] From /usr/local/lib/python3.6/dist-packages/keras/backend/tensorflow_backend.py:517: The name tf.placeholder is deprecated. Please use tf.compat.v1.placeholder instead.\n",
            "\n",
            "W0724 11:39:27.642724 139711954593664 deprecation_wrapper.py:119] From /usr/local/lib/python3.6/dist-packages/keras/backend/tensorflow_backend.py:4138: The name tf.random_uniform is deprecated. Please use tf.random.uniform instead.\n",
            "\n",
            "W0724 11:39:27.676722 139711954593664 deprecation_wrapper.py:119] From /usr/local/lib/python3.6/dist-packages/keras/backend/tensorflow_backend.py:3976: The name tf.nn.max_pool is deprecated. Please use tf.nn.max_pool2d instead.\n",
            "\n"
          ],
          "name": "stderr"
        },
        {
          "output_type": "stream",
          "text": [
            "_________________________________________________________________\n",
            "Layer (type)                 Output Shape              Param #   \n",
            "=================================================================\n",
            "conv2d_1 (Conv2D)            (None, 148, 148, 32)      896       \n",
            "_________________________________________________________________\n",
            "max_pooling2d_1 (MaxPooling2 (None, 74, 74, 32)        0         \n",
            "_________________________________________________________________\n",
            "conv2d_2 (Conv2D)            (None, 72, 72, 64)        18496     \n",
            "_________________________________________________________________\n",
            "max_pooling2d_2 (MaxPooling2 (None, 36, 36, 64)        0         \n",
            "_________________________________________________________________\n",
            "conv2d_3 (Conv2D)            (None, 34, 34, 128)       73856     \n",
            "_________________________________________________________________\n",
            "max_pooling2d_3 (MaxPooling2 (None, 17, 17, 128)       0         \n",
            "_________________________________________________________________\n",
            "conv2d_4 (Conv2D)            (None, 15, 15, 128)       147584    \n",
            "_________________________________________________________________\n",
            "max_pooling2d_4 (MaxPooling2 (None, 7, 7, 128)         0         \n",
            "_________________________________________________________________\n",
            "flatten_1 (Flatten)          (None, 6272)              0         \n",
            "_________________________________________________________________\n",
            "dense_1 (Dense)              (None, 512)               3211776   \n",
            "_________________________________________________________________\n",
            "dense_2 (Dense)              (None, 1)                 513       \n",
            "=================================================================\n",
            "Total params: 3,453,121\n",
            "Trainable params: 3,453,121\n",
            "Non-trainable params: 0\n",
            "_________________________________________________________________\n"
          ],
          "name": "stdout"
        }
      ]
    },
    {
      "cell_type": "code",
      "metadata": {
        "id": "SRd1Tf96x60x",
        "colab_type": "code",
        "colab": {
          "base_uri": "https://localhost:8080/",
          "height": 156
        },
        "outputId": "ab40d258-05ee-4d29-ee4a-985c5948b56f"
      },
      "source": [
        "from keras import optimizers\n",
        "model.compile(loss='binary_crossentropy', \n",
        "              optimizer=optimizers.RMSprop(lr=1e-4),\n",
        "              metrics=['acc'])"
      ],
      "execution_count": 15,
      "outputs": [
        {
          "output_type": "stream",
          "text": [
            "W0724 11:39:46.264387 139711954593664 deprecation_wrapper.py:119] From /usr/local/lib/python3.6/dist-packages/keras/optimizers.py:790: The name tf.train.Optimizer is deprecated. Please use tf.compat.v1.train.Optimizer instead.\n",
            "\n",
            "W0724 11:39:46.271032 139711954593664 deprecation_wrapper.py:119] From /usr/local/lib/python3.6/dist-packages/keras/backend/tensorflow_backend.py:3376: The name tf.log is deprecated. Please use tf.math.log instead.\n",
            "\n",
            "W0724 11:39:46.276613 139711954593664 deprecation.py:323] From /usr/local/lib/python3.6/dist-packages/tensorflow/python/ops/nn_impl.py:180: add_dispatch_support.<locals>.wrapper (from tensorflow.python.ops.array_ops) is deprecated and will be removed in a future version.\n",
            "Instructions for updating:\n",
            "Use tf.where in 2.0, which has the same broadcast rule as np.where\n"
          ],
          "name": "stderr"
        }
      ]
    },
    {
      "cell_type": "code",
      "metadata": {
        "id": "vmh7CKrWx9uv",
        "colab_type": "code",
        "colab": {
          "base_uri": "https://localhost:8080/",
          "height": 51
        },
        "outputId": "38728f9f-3685-43f1-aa1f-2b487acc2c74"
      },
      "source": [
        "from keras.preprocessing.image import ImageDataGenerator\n",
        "\n",
        "train_datagen = ImageDataGenerator(rescale=1./255)\n",
        "test_datagen = ImageDataGenerator(rescale=1./255)\n",
        "\n",
        "train_generator = train_datagen.flow_from_directory(train_dir,\n",
        "                                                    target_size=(150, 150), \n",
        "                                                    batch_size=20,\n",
        "                                                    class_mode='binary')\n",
        "\n",
        "validation_generator = test_datagen.flow_from_directory(validation_dir,\n",
        "                                                        target_size=(150, 150),\n",
        "                                                        batch_size=20,\n",
        "                                                        class_mode='binary')"
      ],
      "execution_count": 16,
      "outputs": [
        {
          "output_type": "stream",
          "text": [
            "Found 2000 images belonging to 2 classes.\n",
            "Found 1000 images belonging to 2 classes.\n"
          ],
          "name": "stdout"
        }
      ]
    },
    {
      "cell_type": "code",
      "metadata": {
        "id": "48NrfrtwyA03",
        "colab_type": "code",
        "colab": {
          "base_uri": "https://localhost:8080/",
          "height": 1000
        },
        "outputId": "1ae1f9e3-7cca-432c-c050-480155bbfa41"
      },
      "source": [
        "history = model.fit_generator(train_generator,\n",
        "                              steps_per_epoch=100,\n",
        "                              epochs=30,\n",
        "                              validation_data=validation_generator,\n",
        "                              validation_steps=10)"
      ],
      "execution_count": 17,
      "outputs": [
        {
          "output_type": "stream",
          "text": [
            "W0724 11:40:10.894576 139711954593664 deprecation_wrapper.py:119] From /usr/local/lib/python3.6/dist-packages/keras/backend/tensorflow_backend.py:986: The name tf.assign_add is deprecated. Please use tf.compat.v1.assign_add instead.\n",
            "\n"
          ],
          "name": "stderr"
        },
        {
          "output_type": "stream",
          "text": [
            "Epoch 1/30\n",
            "100/100 [==============================] - 14s 137ms/step - loss: 0.6931 - acc: 0.5280 - val_loss: 0.6757 - val_acc: 0.5700\n",
            "Epoch 2/30\n",
            "100/100 [==============================] - 7s 69ms/step - loss: 0.6604 - acc: 0.6180 - val_loss: 0.6533 - val_acc: 0.5700\n",
            "Epoch 3/30\n",
            "100/100 [==============================] - 7s 69ms/step - loss: 0.6199 - acc: 0.6680 - val_loss: 0.6130 - val_acc: 0.6950\n",
            "Epoch 4/30\n",
            "100/100 [==============================] - 7s 68ms/step - loss: 0.5761 - acc: 0.6990 - val_loss: 0.6454 - val_acc: 0.6350\n",
            "Epoch 5/30\n",
            "100/100 [==============================] - 7s 68ms/step - loss: 0.5387 - acc: 0.7330 - val_loss: 0.6067 - val_acc: 0.6750\n",
            "Epoch 6/30\n",
            "100/100 [==============================] - 7s 69ms/step - loss: 0.4996 - acc: 0.7515 - val_loss: 0.6104 - val_acc: 0.6800\n",
            "Epoch 7/30\n",
            "100/100 [==============================] - 7s 68ms/step - loss: 0.4703 - acc: 0.7795 - val_loss: 0.6251 - val_acc: 0.6450\n",
            "Epoch 8/30\n",
            "100/100 [==============================] - 7s 69ms/step - loss: 0.4419 - acc: 0.7990 - val_loss: 0.5851 - val_acc: 0.6900\n",
            "Epoch 9/30\n",
            "100/100 [==============================] - 7s 69ms/step - loss: 0.4145 - acc: 0.8130 - val_loss: 0.5385 - val_acc: 0.7500\n",
            "Epoch 10/30\n",
            "100/100 [==============================] - 7s 69ms/step - loss: 0.3837 - acc: 0.8235 - val_loss: 0.5535 - val_acc: 0.7200\n",
            "Epoch 11/30\n",
            "100/100 [==============================] - 7s 68ms/step - loss: 0.3533 - acc: 0.8510 - val_loss: 0.4731 - val_acc: 0.7450\n",
            "Epoch 12/30\n",
            "100/100 [==============================] - 7s 68ms/step - loss: 0.3289 - acc: 0.8510 - val_loss: 0.6091 - val_acc: 0.7550\n",
            "Epoch 13/30\n",
            "100/100 [==============================] - 7s 69ms/step - loss: 0.2979 - acc: 0.8765 - val_loss: 0.6242 - val_acc: 0.6850\n",
            "Epoch 14/30\n",
            "100/100 [==============================] - 7s 70ms/step - loss: 0.2734 - acc: 0.8790 - val_loss: 0.6774 - val_acc: 0.6850\n",
            "Epoch 15/30\n",
            "100/100 [==============================] - 7s 72ms/step - loss: 0.2468 - acc: 0.9025 - val_loss: 0.6430 - val_acc: 0.7250\n",
            "Epoch 16/30\n",
            "100/100 [==============================] - 7s 70ms/step - loss: 0.2205 - acc: 0.9145 - val_loss: 0.6883 - val_acc: 0.6600\n",
            "Epoch 17/30\n",
            "100/100 [==============================] - 7s 70ms/step - loss: 0.1898 - acc: 0.9305 - val_loss: 0.7119 - val_acc: 0.7500\n",
            "Epoch 18/30\n",
            "100/100 [==============================] - 7s 72ms/step - loss: 0.1781 - acc: 0.9325 - val_loss: 0.7505 - val_acc: 0.6800\n",
            "Epoch 19/30\n",
            "100/100 [==============================] - 7s 70ms/step - loss: 0.1531 - acc: 0.9455 - val_loss: 0.8256 - val_acc: 0.7000\n",
            "Epoch 20/30\n",
            "100/100 [==============================] - 7s 70ms/step - loss: 0.1312 - acc: 0.9550 - val_loss: 0.7804 - val_acc: 0.6850\n",
            "Epoch 21/30\n",
            "100/100 [==============================] - 7s 72ms/step - loss: 0.1069 - acc: 0.9690 - val_loss: 0.7519 - val_acc: 0.7500\n",
            "Epoch 22/30\n",
            "100/100 [==============================] - 7s 72ms/step - loss: 0.0965 - acc: 0.9690 - val_loss: 0.9090 - val_acc: 0.7050\n",
            "Epoch 23/30\n",
            "100/100 [==============================] - 7s 70ms/step - loss: 0.0801 - acc: 0.9770 - val_loss: 0.7539 - val_acc: 0.7450\n",
            "Epoch 24/30\n",
            "100/100 [==============================] - 7s 71ms/step - loss: 0.0725 - acc: 0.9750 - val_loss: 1.1164 - val_acc: 0.7050\n",
            "Epoch 25/30\n",
            "100/100 [==============================] - 7s 71ms/step - loss: 0.0575 - acc: 0.9845 - val_loss: 1.2674 - val_acc: 0.6800\n",
            "Epoch 26/30\n",
            "100/100 [==============================] - 7s 71ms/step - loss: 0.0494 - acc: 0.9880 - val_loss: 0.9933 - val_acc: 0.7150\n",
            "Epoch 27/30\n",
            "100/100 [==============================] - 7s 71ms/step - loss: 0.0429 - acc: 0.9900 - val_loss: 0.9526 - val_acc: 0.7300\n",
            "Epoch 28/30\n",
            "100/100 [==============================] - 7s 71ms/step - loss: 0.0343 - acc: 0.9910 - val_loss: 0.8285 - val_acc: 0.7500\n",
            "Epoch 29/30\n",
            "100/100 [==============================] - 7s 70ms/step - loss: 0.0388 - acc: 0.9910 - val_loss: 1.4146 - val_acc: 0.7250\n",
            "Epoch 30/30\n",
            "100/100 [==============================] - 7s 71ms/step - loss: 0.0252 - acc: 0.9930 - val_loss: 1.4566 - val_acc: 0.7050\n"
          ],
          "name": "stdout"
        }
      ]
    },
    {
      "cell_type": "code",
      "metadata": {
        "id": "L-8MZSe-zBGf",
        "colab_type": "code",
        "colab": {}
      },
      "source": [
        "model.save('cats_and_dogs_small_1.h5')"
      ],
      "execution_count": 0,
      "outputs": []
    },
    {
      "cell_type": "code",
      "metadata": {
        "id": "9IvUEEnNzCz7",
        "colab_type": "code",
        "colab": {
          "base_uri": "https://localhost:8080/",
          "height": 545
        },
        "outputId": "a9ff1263-5c3e-47a5-e7aa-1f76154d4c7f"
      },
      "source": [
        "\n",
        "import matplotlib.pyplot as plt\n",
        "\n",
        "acc = history.history['acc']\n",
        "val_acc = history.history['val_acc']\n",
        "loss = history.history['loss']\n",
        "val_loss = history.history['val_loss']\n",
        "\n",
        "epochs = range(1, len(acc) + 1)\n",
        "\n",
        "plt.plot(epochs, acc, 'bo', label='Training acc')\n",
        "plt.plot(epochs, val_acc, 'b', label='Validation acc')\n",
        "plt.title('Training and validation accuracy')\n",
        "plt.legend()\n",
        "\n",
        "plt.figure()\n",
        "\n",
        "plt.plot(epochs, loss, 'bo', label='Training loss')\n",
        "plt.plot(epochs, val_loss, 'b', label='Validation loss')\n",
        "plt.title('Training and validation loss')\n",
        "plt.legend()\n",
        "\n",
        "plt.show()"
      ],
      "execution_count": 19,
      "outputs": [
        {
          "output_type": "display_data",
          "data": {
            "image/png": "[encoded data removed]",
            "text/plain": [
              "<Figure size 432x288 with 1 Axes>"
            ]
          },
          "metadata": {
            "tags": []
          }
        },
        {
          "output_type": "display_data",
          "data": {
            "image/png": "[encoded data removed]",
            "text/plain": [
              "<Figure size 432x288 with 1 Axes>"
            ]
          },
          "metadata": {
            "tags": []
          }
        }
      ]
    }
  ]
}